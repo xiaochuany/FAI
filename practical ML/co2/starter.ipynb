{
 "cells": [
  {
   "cell_type": "code",
   "execution_count": 32,
   "id": "94364d5a-fb97-4ba1-9375-a7125599718f",
   "metadata": {
    "tags": []
   },
   "outputs": [],
   "source": [
    "import os\n",
    "import numpy as np\n",
    "import pandas as pd\n",
    "%matplotlib inline"
   ]
  },
  {
   "cell_type": "code",
   "execution_count": 2,
   "id": "8a3098af-b3fd-43c1-ab54-66ee78031b85",
   "metadata": {
    "tags": []
   },
   "outputs": [],
   "source": [
    "csv_directory = \"./data\"\n",
    "\n",
    "csv_files = [f for f in os.listdir(csv_directory) if f.endswith('.csv')]\n",
    "\n",
    "dataframes = {}\n",
    "\n",
    "for csv_file in csv_files:\n",
    "    csv_path = os.path.join(csv_directory, csv_file)\n",
    "    df = pd.read_csv(csv_path)\n",
    "    name = os.path.splitext(csv_file)[0]\n",
    "    dataframes[name]=df"
   ]
  },
  {
   "cell_type": "code",
   "execution_count": 3,
   "id": "09c7cd6d-ac89-4deb-84cf-e60ef519cea0",
   "metadata": {
    "tags": []
   },
   "outputs": [
    {
     "data": {
      "text/plain": [
       "dict_keys(['sample_submission', 'test', 'train'])"
      ]
     },
     "execution_count": 3,
     "metadata": {},
     "output_type": "execute_result"
    }
   ],
   "source": [
    "dataframes.keys()"
   ]
  },
  {
   "cell_type": "code",
   "execution_count": 5,
   "id": "491dd255-7e63-4601-9438-b51df6cb6b27",
   "metadata": {
    "tags": []
   },
   "outputs": [],
   "source": [
    "# for k,v in dataframes.items():\n",
    "#     print(k)\n",
    "#     display(v.info())"
   ]
  },
  {
   "cell_type": "code",
   "execution_count": 26,
   "id": "05c5d550-d6b8-4834-9012-e49e17bb78be",
   "metadata": {},
   "outputs": [],
   "source": [
    "tr = dataframes['train']\n",
    "cols = tr.columns\n",
    "loc= ['latitude','longitude']"
   ]
  },
  {
   "cell_type": "code",
   "execution_count": 29,
   "id": "7422987e-c95d-4528-9c03-6693f26853e7",
   "metadata": {
    "tags": []
   },
   "outputs": [
    {
     "data": {
      "text/html": [
       "<div>\n",
       "<style scoped>\n",
       "    .dataframe tbody tr th:only-of-type {\n",
       "        vertical-align: middle;\n",
       "    }\n",
       "\n",
       "    .dataframe tbody tr th {\n",
       "        vertical-align: top;\n",
       "    }\n",
       "\n",
       "    .dataframe thead th {\n",
       "        text-align: right;\n",
       "    }\n",
       "</style>\n",
       "<table border=\"1\" class=\"dataframe\">\n",
       "  <thead>\n",
       "    <tr style=\"text-align: right;\">\n",
       "      <th></th>\n",
       "      <th></th>\n",
       "      <th>max</th>\n",
       "      <th>min</th>\n",
       "      <th>count</th>\n",
       "    </tr>\n",
       "    <tr>\n",
       "      <th>latitude</th>\n",
       "      <th>longitude</th>\n",
       "      <th></th>\n",
       "      <th></th>\n",
       "      <th></th>\n",
       "    </tr>\n",
       "  </thead>\n",
       "  <tbody>\n",
       "    <tr>\n",
       "      <th>-3.299</th>\n",
       "      <th>30.301</th>\n",
       "      <td>2021</td>\n",
       "      <td>2019</td>\n",
       "      <td>159</td>\n",
       "    </tr>\n",
       "    <tr>\n",
       "      <th>-3.287</th>\n",
       "      <th>29.713</th>\n",
       "      <td>2021</td>\n",
       "      <td>2019</td>\n",
       "      <td>159</td>\n",
       "    </tr>\n",
       "    <tr>\n",
       "      <th>-3.174</th>\n",
       "      <th>29.926</th>\n",
       "      <td>2021</td>\n",
       "      <td>2019</td>\n",
       "      <td>159</td>\n",
       "    </tr>\n",
       "    <tr>\n",
       "      <th>-3.161</th>\n",
       "      <th>28.839</th>\n",
       "      <td>2021</td>\n",
       "      <td>2019</td>\n",
       "      <td>159</td>\n",
       "    </tr>\n",
       "    <tr>\n",
       "      <th>-3.153</th>\n",
       "      <th>30.347</th>\n",
       "      <td>2021</td>\n",
       "      <td>2019</td>\n",
       "      <td>159</td>\n",
       "    </tr>\n",
       "    <tr>\n",
       "      <th>...</th>\n",
       "      <th>...</th>\n",
       "      <td>...</td>\n",
       "      <td>...</td>\n",
       "      <td>...</td>\n",
       "    </tr>\n",
       "    <tr>\n",
       "      <th>-0.598</th>\n",
       "      <th>29.102</th>\n",
       "      <td>2021</td>\n",
       "      <td>2019</td>\n",
       "      <td>159</td>\n",
       "    </tr>\n",
       "    <tr>\n",
       "      <th>-0.569</th>\n",
       "      <th>30.031</th>\n",
       "      <td>2021</td>\n",
       "      <td>2019</td>\n",
       "      <td>159</td>\n",
       "    </tr>\n",
       "    <tr>\n",
       "      <th>-0.547</th>\n",
       "      <th>29.653</th>\n",
       "      <td>2021</td>\n",
       "      <td>2019</td>\n",
       "      <td>159</td>\n",
       "    </tr>\n",
       "    <tr>\n",
       "      <th>-0.528</th>\n",
       "      <th>29.472</th>\n",
       "      <td>2021</td>\n",
       "      <td>2019</td>\n",
       "      <td>159</td>\n",
       "    </tr>\n",
       "    <tr>\n",
       "      <th>-0.510</th>\n",
       "      <th>29.290</th>\n",
       "      <td>2021</td>\n",
       "      <td>2019</td>\n",
       "      <td>159</td>\n",
       "    </tr>\n",
       "  </tbody>\n",
       "</table>\n",
       "<p>497 rows × 3 columns</p>\n",
       "</div>"
      ],
      "text/plain": [
       "                     max   min  count\n",
       "latitude longitude                   \n",
       "-3.299   30.301     2021  2019    159\n",
       "-3.287   29.713     2021  2019    159\n",
       "-3.174   29.926     2021  2019    159\n",
       "-3.161   28.839     2021  2019    159\n",
       "-3.153   30.347     2021  2019    159\n",
       "...                  ...   ...    ...\n",
       "-0.598   29.102     2021  2019    159\n",
       "-0.569   30.031     2021  2019    159\n",
       "-0.547   29.653     2021  2019    159\n",
       "-0.528   29.472     2021  2019    159\n",
       "-0.510   29.290     2021  2019    159\n",
       "\n",
       "[497 rows x 3 columns]"
      ]
     },
     "execution_count": 29,
     "metadata": {},
     "output_type": "execute_result"
    }
   ],
   "source": [
    "(\n",
    "    tr\n",
    "    .groupby(loc)\n",
    "    .year\n",
    "    .agg(['max','min','count'])\n",
    ")"
   ]
  },
  {
   "cell_type": "code",
   "execution_count": 35,
   "id": "2294d598-c7a4-4a3e-9846-3b691635ff91",
   "metadata": {
    "tags": []
   },
   "outputs": [
    {
     "data": {
      "text/plain": [
       "10.173825825101622"
      ]
     },
     "execution_count": 35,
     "metadata": {},
     "output_type": "execute_result"
    }
   ],
   "source": [
    "tr.emission.skew()"
   ]
  },
  {
   "cell_type": "code",
   "execution_count": null,
   "id": "b079484c-c070-4e66-a4be-6298d3a8cfe6",
   "metadata": {},
   "outputs": [],
   "source": []
  }
 ],
 "metadata": {
  "kernelspec": {
   "display_name": "scipy:Python",
   "language": "python",
   "name": "conda-env-scipy-py"
  },
  "language_info": {
   "codemirror_mode": {
    "name": "ipython",
    "version": 3
   },
   "file_extension": ".py",
   "mimetype": "text/x-python",
   "name": "python",
   "nbconvert_exporter": "python",
   "pygments_lexer": "ipython3",
   "version": "3.11.4"
  }
 },
 "nbformat": 4,
 "nbformat_minor": 5
}
