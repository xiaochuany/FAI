{
 "cells": [
  {
   "cell_type": "code",
   "execution_count": 1,
   "id": "494689e0-9b6b-46c1-8175-7dcfef96a8c0",
   "metadata": {
    "tags": []
   },
   "outputs": [],
   "source": [
    "# uncomment for the first run\n",
    "# !pip install kaggle\n",
    "# !kaggle competitions download -c spaceship-titanic\n",
    "# !unzip space*"
   ]
  },
  {
   "cell_type": "code",
   "execution_count": 6,
   "id": "43b151da-95ec-4be6-9eb6-9ca10b4ce318",
   "metadata": {
    "tags": []
   },
   "outputs": [],
   "source": [
    "import numpy as np\n",
    "# preprocess\n",
    "import pandas as pd\n",
    "from sklearn.model_selection import train_test_split\n",
    "from sklearn.preprocessing import LabelEncoder, OneHotEncoder\n",
    "# model\n",
    "import xgboost as xgb\n",
    "from sklearn.model_selection import GridSearchCV, RandomizedSearchCV\n",
    "# eval\n",
    "from sklearn.metrics import accuracy_score, classification_report, confusion_matrix, make_scorer"
   ]
  },
  {
   "cell_type": "code",
   "execution_count": 7,
   "id": "18236084-7c7e-485f-a933-b9bd01069400",
   "metadata": {
    "tags": []
   },
   "outputs": [],
   "source": [
    "df = pd.read_csv('train.csv')"
   ]
  },
  {
   "cell_type": "code",
   "execution_count": 8,
   "id": "f0ac1bc8-993e-4b2e-b9eb-e35b1b037e4c",
   "metadata": {
    "tags": []
   },
   "outputs": [
    {
     "data": {
      "text/html": [
       "<div>\n",
       "<style scoped>\n",
       "    .dataframe tbody tr th:only-of-type {\n",
       "        vertical-align: middle;\n",
       "    }\n",
       "\n",
       "    .dataframe tbody tr th {\n",
       "        vertical-align: top;\n",
       "    }\n",
       "\n",
       "    .dataframe thead th {\n",
       "        text-align: right;\n",
       "    }\n",
       "</style>\n",
       "<table border=\"1\" class=\"dataframe\">\n",
       "  <thead>\n",
       "    <tr style=\"text-align: right;\">\n",
       "      <th></th>\n",
       "      <th>PassengerId</th>\n",
       "      <th>HomePlanet</th>\n",
       "      <th>CryoSleep</th>\n",
       "      <th>Cabin</th>\n",
       "      <th>Destination</th>\n",
       "      <th>Age</th>\n",
       "      <th>VIP</th>\n",
       "      <th>RoomService</th>\n",
       "      <th>FoodCourt</th>\n",
       "      <th>ShoppingMall</th>\n",
       "      <th>Spa</th>\n",
       "      <th>VRDeck</th>\n",
       "      <th>Name</th>\n",
       "      <th>Transported</th>\n",
       "    </tr>\n",
       "  </thead>\n",
       "  <tbody>\n",
       "    <tr>\n",
       "      <th>0</th>\n",
       "      <td>0001_01</td>\n",
       "      <td>Europa</td>\n",
       "      <td>False</td>\n",
       "      <td>B/0/P</td>\n",
       "      <td>TRAPPIST-1e</td>\n",
       "      <td>39.0</td>\n",
       "      <td>False</td>\n",
       "      <td>0.0</td>\n",
       "      <td>0.0</td>\n",
       "      <td>0.0</td>\n",
       "      <td>0.0</td>\n",
       "      <td>0.0</td>\n",
       "      <td>Maham Ofracculy</td>\n",
       "      <td>False</td>\n",
       "    </tr>\n",
       "    <tr>\n",
       "      <th>1</th>\n",
       "      <td>0002_01</td>\n",
       "      <td>Earth</td>\n",
       "      <td>False</td>\n",
       "      <td>F/0/S</td>\n",
       "      <td>TRAPPIST-1e</td>\n",
       "      <td>24.0</td>\n",
       "      <td>False</td>\n",
       "      <td>109.0</td>\n",
       "      <td>9.0</td>\n",
       "      <td>25.0</td>\n",
       "      <td>549.0</td>\n",
       "      <td>44.0</td>\n",
       "      <td>Juanna Vines</td>\n",
       "      <td>True</td>\n",
       "    </tr>\n",
       "  </tbody>\n",
       "</table>\n",
       "</div>"
      ],
      "text/plain": [
       "  PassengerId HomePlanet CryoSleep  Cabin  Destination   Age    VIP  \\\n",
       "0     0001_01     Europa     False  B/0/P  TRAPPIST-1e  39.0  False   \n",
       "1     0002_01      Earth     False  F/0/S  TRAPPIST-1e  24.0  False   \n",
       "\n",
       "   RoomService  FoodCourt  ShoppingMall    Spa  VRDeck             Name  \\\n",
       "0          0.0        0.0           0.0    0.0     0.0  Maham Ofracculy   \n",
       "1        109.0        9.0          25.0  549.0    44.0     Juanna Vines   \n",
       "\n",
       "   Transported  \n",
       "0        False  \n",
       "1         True  "
      ]
     },
     "execution_count": 8,
     "metadata": {},
     "output_type": "execute_result"
    }
   ],
   "source": [
    "df[:2]"
   ]
  },
  {
   "cell_type": "code",
   "execution_count": 9,
   "id": "716e7342-4725-4820-9f86-ebe43d0eabff",
   "metadata": {
    "tags": []
   },
   "outputs": [
    {
     "name": "stdout",
     "output_type": "stream",
     "text": [
      "<class 'pandas.core.frame.DataFrame'>\n",
      "RangeIndex: 8693 entries, 0 to 8692\n",
      "Data columns (total 14 columns):\n",
      " #   Column        Non-Null Count  Dtype  \n",
      "---  ------        --------------  -----  \n",
      " 0   PassengerId   8693 non-null   object \n",
      " 1   HomePlanet    8492 non-null   object \n",
      " 2   CryoSleep     8476 non-null   object \n",
      " 3   Cabin         8494 non-null   object \n",
      " 4   Destination   8511 non-null   object \n",
      " 5   Age           8514 non-null   float64\n",
      " 6   VIP           8490 non-null   object \n",
      " 7   RoomService   8512 non-null   float64\n",
      " 8   FoodCourt     8510 non-null   float64\n",
      " 9   ShoppingMall  8485 non-null   float64\n",
      " 10  Spa           8510 non-null   float64\n",
      " 11  VRDeck        8505 non-null   float64\n",
      " 12  Name          8493 non-null   object \n",
      " 13  Transported   8693 non-null   bool   \n",
      "dtypes: bool(1), float64(6), object(7)\n",
      "memory usage: 891.5+ KB\n"
     ]
    }
   ],
   "source": [
    "df.info()"
   ]
  },
  {
   "cell_type": "markdown",
   "id": "455a1841-3673-459b-baf6-3a5fa50651d9",
   "metadata": {},
   "source": [
    "# XGBoost"
   ]
  },
  {
   "cell_type": "code",
   "execution_count": 10,
   "id": "119452e5-9e0a-4d29-a581-dcfd174f13a6",
   "metadata": {
    "tags": []
   },
   "outputs": [],
   "source": [
    "# Replace 'your_dataframe.csv' with the actual file path or use your DataFrame directly if it's already loaded.\n",
    "df = pd.read_csv('train.csv')\n",
    "\n",
    "# Drop the 'PassengerId' and 'Name' columns as they are unlikely to have predictive value.\n",
    "df.drop(['PassengerId', 'Name'], axis=1, inplace=True)\n",
    "\n",
    "\n",
    "# Handling missing values (you can choose other strategies based on your dataset).\n",
    "# df.fillna(0, inplace=True)\n",
    "for col in df.columns:\n",
    "    if df[col].dtype == 'object':\n",
    "        # For object (categorical) columns, impute with the most common value (mode)\n",
    "        df[col].fillna(df[col].mode()[0], inplace=True)\n",
    "    else:\n",
    "        # For numeric columns, impute with the mean (you can choose other methods like median as well)\n",
    "        df[col].fillna(df[col].mean(), inplace=True)\n",
    "\n",
    "\n",
    "# Convert 'CryoSleep', 'VIP', and 'Transported' columns to numeric (1 for True, 0 for False).\n",
    "df['CryoSleep'] = df['CryoSleep'].map({'True': 1, 'False': 0})\n",
    "df['VIP'] = df['VIP'].map({'True': 1, 'False': 0})\n",
    "df['Transported'] = df['Transported'].astype(int)\n",
    "\n",
    "# Extract categorical columns and encode them using one-hot encoding.\n",
    "categorical_columns = ['HomePlanet', 'Cabin', 'Destination']\n",
    "encoder = OneHotEncoder(drop='first', sparse_output=False)\n",
    "encoded_categorical = encoder.fit_transform(df[categorical_columns])\n",
    "encoded_categorical_df = pd.DataFrame(encoded_categorical, columns=encoder.get_feature_names_out(categorical_columns))\n",
    "\n",
    "\n",
    "# Drop the original categorical columns and concatenate the encoded ones.\n",
    "df.drop(categorical_columns, axis=1, inplace=True)\n",
    "df = pd.concat([df, encoded_categorical_df], axis=1)\n",
    "\n",
    "\n",
    "# Split the data into features (X) and target (y).\n",
    "X = df.drop('Transported', axis=1)\n",
    "y = df['Transported']\n",
    "\n",
    "\n",
    "# Split the data into training and testing sets.\n",
    "X_train, X_val, y_train, y_val = train_test_split(X, y, test_size=0.2, random_state=42)\n"
   ]
  },
  {
   "cell_type": "code",
   "execution_count": 12,
   "id": "da2ad891-5bcb-4262-8233-2a365bd1c1ba",
   "metadata": {
    "tags": []
   },
   "outputs": [],
   "source": [
    "# Convert data to DMatrix format for XGBoost.\n",
    "dtrain = xgb.DMatrix(X_train, label=y_train)\n",
    "\n",
    "# Set the hyperparameters for the XGBoost model.\n",
    "params = {\n",
    "    'objective': 'binary:logistic',\n",
    "    'eval_metric': 'logloss',\n",
    "    'max_depth': 3,\n",
    "    'learning_rate': 0.1,\n",
    "    'subsample': 0.8,\n",
    "    'colsample_bytree': 0.8,\n",
    "    'seed': 42,\n",
    "    # 'tree_method': 'gpu_hist'\n",
    "}\n",
    "\n",
    "# Train the XGBoost model.\n",
    "num_rounds = 150\n",
    "model = xgb.train(params, dtrain, num_rounds)\n"
   ]
  },
  {
   "cell_type": "code",
   "execution_count": 14,
   "id": "b1553ce6-53a2-4ef9-b11e-81cf76e8950f",
   "metadata": {
    "tags": []
   },
   "outputs": [
    {
     "name": "stdout",
     "output_type": "stream",
     "text": [
      "Accuracy: 0.77746\n"
     ]
    }
   ],
   "source": [
    "# Predict using the test data.\n",
    "dval = xgb.DMatrix(X_val)\n",
    "y_pred = model.predict(dval)\n",
    "\n",
    "# Convert the probabilities to binary predictions (0 or 1).\n",
    "y_pred_binary = np.round(y_pred)\n",
    "\n",
    "# Calculate the accuracy of the model.\n",
    "accuracy = accuracy_score(y_val, y_pred_binary)\n",
    "print(f'Accuracy: {accuracy:.5f}')"
   ]
  },
  {
   "cell_type": "code",
   "execution_count": 14,
   "id": "4c3b32dc-7fc4-4516-a857-0211b5b4589b",
   "metadata": {
    "tags": []
   },
   "outputs": [],
   "source": [
    "import joblib"
   ]
  },
  {
   "cell_type": "code",
   "execution_count": 17,
   "id": "adbdb826-d26f-4d71-a8c9-089e0451fc2c",
   "metadata": {},
   "outputs": [
    {
     "data": {
      "text/plain": [
       "True"
      ]
     },
     "execution_count": 17,
     "metadata": {},
     "output_type": "execute_result"
    }
   ],
   "source": [
    "# Save the learned parameters and the Random Forest estimator using joblib\n",
    "joblib.dump(model, 'xgb_base.pkl')\n",
    "# Load the saved Random Forest model\n",
    "xgb_reload = joblib.load('xgb_base.pkl')\n",
    "# Use the loaded model for predictions\n",
    "\n",
    "\n",
    "y_pred_reload = xgb_reload.predict(dval)\n",
    "\n",
    "all(y_pred_reload == y_pred)"
   ]
  },
  {
   "cell_type": "code",
   "execution_count": null,
   "id": "3384b940-13b9-4d84-bdf0-89e22812f123",
   "metadata": {},
   "outputs": [],
   "source": []
  },
  {
   "cell_type": "markdown",
   "id": "29e9067a-4664-40fb-bcca-f0addd9ad5a7",
   "metadata": {},
   "source": [
    "# Tuning parameters"
   ]
  },
  {
   "cell_type": "code",
   "execution_count": 15,
   "id": "16067194-76d3-44eb-a53b-67ff3a7037a5",
   "metadata": {
    "tags": []
   },
   "outputs": [
    {
     "name": "stdout",
     "output_type": "stream",
     "text": [
      "Fitting 5 folds for each of 5 candidates, totalling 25 fits\n",
      "Best Hyperparameters: {'subsample': 0.8, 'max_depth': 7, 'learning_rate': 0.06135907273413173, 'colsample_bytree': 0.8}\n",
      "Test Accuracy: 0.78\n"
     ]
    }
   ],
   "source": [
    "# Define the parameter search space.\n",
    "param_space = {\n",
    "    'max_depth': np.arange(3, 10),\n",
    "    'learning_rate': np.logspace(-3, 0, 100),\n",
    "    'subsample': np.linspace(0.6, 0.9, 4),\n",
    "    'colsample_bytree': np.linspace(0.6, 0.9, 4)\n",
    "}\n",
    "\n",
    "\n",
    "\n",
    "xgb_classifier = xgb.XGBClassifier(objective='binary:logistic', seed=42)\n",
    "\n",
    "# Perform randomized search with cross-validation.\n",
    "random_search = RandomizedSearchCV(\n",
    "    xgb_classifier,\n",
    "    param_distributions=param_space,\n",
    "    n_iter=5,  # Number of random parameter combinations to try\n",
    "    scoring=make_scorer(accuracy_score),  # Use accuracy as the evaluation metric\n",
    "    cv=5,  # 5-fold cross-validation\n",
    "    verbose=1,\n",
    "    n_jobs=-1,\n",
    "    random_state=42\n",
    ")\n",
    "\n",
    "# Perform the search on the training data.\n",
    "random_search.fit(X_train, y_train)\n",
    "\n",
    "# Get the best hyperparameters found by the search.\n",
    "best_params = random_search.best_params_\n",
    "print(\"Best Hyperparameters:\", best_params)\n",
    "\n",
    "# Get the best model and evaluate it on the test data.\n",
    "best_model = random_search.best_estimator_\n",
    "y_pred = best_model.predict(X_val)\n",
    "accuracy = accuracy_score(y_val, y_pred)\n",
    "print(f'Test Accuracy: {accuracy:.2f}')\n"
   ]
  },
  {
   "cell_type": "markdown",
   "id": "c6bfa098-e3ac-429d-9f86-e9656017f06b",
   "metadata": {},
   "source": [
    "Took forever to run 25 fits. Need speedup! "
   ]
  },
  {
   "cell_type": "markdown",
   "id": "d5a32573",
   "metadata": {},
   "source": []
  }
 ],
 "metadata": {
  "kernelspec": {
   "display_name": "py311",
   "language": "python",
   "name": "python3"
  },
  "language_info": {
   "codemirror_mode": {
    "name": "ipython",
    "version": 3
   },
   "file_extension": ".py",
   "mimetype": "text/x-python",
   "name": "python",
   "nbconvert_exporter": "python",
   "pygments_lexer": "ipython3",
   "version": "3.11.3"
  }
 },
 "nbformat": 4,
 "nbformat_minor": 5
}
