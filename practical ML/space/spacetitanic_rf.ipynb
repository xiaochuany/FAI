{
 "cells": [
  {
   "cell_type": "code",
   "execution_count": 1,
   "id": "494689e0-9b6b-46c1-8175-7dcfef96a8c0",
   "metadata": {
    "tags": []
   },
   "outputs": [],
   "source": [
    "# uncomment for the first run\n",
    "# !pip install kaggle\n",
    "# !kaggle competitions download -c spaceship-titanic\n",
    "# !unzip spaceship-titanic"
   ]
  },
  {
   "cell_type": "code",
   "execution_count": 2,
   "id": "43b151da-95ec-4be6-9eb6-9ca10b4ce318",
   "metadata": {
    "tags": []
   },
   "outputs": [],
   "source": [
    "import pandas as pd\n",
    "import os\n",
    "from sklearn.model_selection import train_test_split,GridSearchCV, RandomizedSearchCV\n",
    "from sklearn.preprocessing import LabelEncoder\n",
    "from sklearn.ensemble import RandomForestClassifier\n",
    "from sklearn.metrics import accuracy_score, classification_report, confusion_matrix"
   ]
  },
  {
   "cell_type": "code",
   "execution_count": 3,
   "id": "4fd54f92-f0c7-4307-b72e-fde5b2ea74e8",
   "metadata": {
    "tags": []
   },
   "outputs": [],
   "source": [
    "PATH = './data/raw'"
   ]
  },
  {
   "cell_type": "code",
   "execution_count": 4,
   "id": "18236084-7c7e-485f-a933-b9bd01069400",
   "metadata": {
    "tags": []
   },
   "outputs": [],
   "source": [
    "df = pd.read_csv(os.path.join(PATH,'train.csv'))"
   ]
  },
  {
   "cell_type": "code",
   "execution_count": 5,
   "id": "f0ac1bc8-993e-4b2e-b9eb-e35b1b037e4c",
   "metadata": {
    "tags": []
   },
   "outputs": [
    {
     "data": {
      "text/html": [
       "<div>\n",
       "<style scoped>\n",
       "    .dataframe tbody tr th:only-of-type {\n",
       "        vertical-align: middle;\n",
       "    }\n",
       "\n",
       "    .dataframe tbody tr th {\n",
       "        vertical-align: top;\n",
       "    }\n",
       "\n",
       "    .dataframe thead th {\n",
       "        text-align: right;\n",
       "    }\n",
       "</style>\n",
       "<table border=\"1\" class=\"dataframe\">\n",
       "  <thead>\n",
       "    <tr style=\"text-align: right;\">\n",
       "      <th></th>\n",
       "      <th>PassengerId</th>\n",
       "      <th>HomePlanet</th>\n",
       "      <th>CryoSleep</th>\n",
       "      <th>Cabin</th>\n",
       "      <th>Destination</th>\n",
       "      <th>Age</th>\n",
       "      <th>VIP</th>\n",
       "      <th>RoomService</th>\n",
       "      <th>FoodCourt</th>\n",
       "      <th>ShoppingMall</th>\n",
       "      <th>Spa</th>\n",
       "      <th>VRDeck</th>\n",
       "      <th>Name</th>\n",
       "      <th>Transported</th>\n",
       "    </tr>\n",
       "  </thead>\n",
       "  <tbody>\n",
       "    <tr>\n",
       "      <th>0</th>\n",
       "      <td>0001_01</td>\n",
       "      <td>Europa</td>\n",
       "      <td>False</td>\n",
       "      <td>B/0/P</td>\n",
       "      <td>TRAPPIST-1e</td>\n",
       "      <td>39.0</td>\n",
       "      <td>False</td>\n",
       "      <td>0.0</td>\n",
       "      <td>0.0</td>\n",
       "      <td>0.0</td>\n",
       "      <td>0.0</td>\n",
       "      <td>0.0</td>\n",
       "      <td>Maham Ofracculy</td>\n",
       "      <td>False</td>\n",
       "    </tr>\n",
       "    <tr>\n",
       "      <th>1</th>\n",
       "      <td>0002_01</td>\n",
       "      <td>Earth</td>\n",
       "      <td>False</td>\n",
       "      <td>F/0/S</td>\n",
       "      <td>TRAPPIST-1e</td>\n",
       "      <td>24.0</td>\n",
       "      <td>False</td>\n",
       "      <td>109.0</td>\n",
       "      <td>9.0</td>\n",
       "      <td>25.0</td>\n",
       "      <td>549.0</td>\n",
       "      <td>44.0</td>\n",
       "      <td>Juanna Vines</td>\n",
       "      <td>True</td>\n",
       "    </tr>\n",
       "  </tbody>\n",
       "</table>\n",
       "</div>"
      ],
      "text/plain": [
       "  PassengerId HomePlanet CryoSleep  Cabin  Destination   Age    VIP  \\\n",
       "0     0001_01     Europa     False  B/0/P  TRAPPIST-1e  39.0  False   \n",
       "1     0002_01      Earth     False  F/0/S  TRAPPIST-1e  24.0  False   \n",
       "\n",
       "   RoomService  FoodCourt  ShoppingMall    Spa  VRDeck             Name  \\\n",
       "0          0.0        0.0           0.0    0.0     0.0  Maham Ofracculy   \n",
       "1        109.0        9.0          25.0  549.0    44.0     Juanna Vines   \n",
       "\n",
       "   Transported  \n",
       "0        False  \n",
       "1         True  "
      ]
     },
     "execution_count": 5,
     "metadata": {},
     "output_type": "execute_result"
    }
   ],
   "source": [
    "df[:2]"
   ]
  },
  {
   "cell_type": "code",
   "execution_count": 6,
   "id": "716e7342-4725-4820-9f86-ebe43d0eabff",
   "metadata": {
    "tags": []
   },
   "outputs": [
    {
     "name": "stdout",
     "output_type": "stream",
     "text": [
      "<class 'pandas.core.frame.DataFrame'>\n",
      "RangeIndex: 8693 entries, 0 to 8692\n",
      "Data columns (total 14 columns):\n",
      " #   Column        Non-Null Count  Dtype  \n",
      "---  ------        --------------  -----  \n",
      " 0   PassengerId   8693 non-null   object \n",
      " 1   HomePlanet    8492 non-null   object \n",
      " 2   CryoSleep     8476 non-null   object \n",
      " 3   Cabin         8494 non-null   object \n",
      " 4   Destination   8511 non-null   object \n",
      " 5   Age           8514 non-null   float64\n",
      " 6   VIP           8490 non-null   object \n",
      " 7   RoomService   8512 non-null   float64\n",
      " 8   FoodCourt     8510 non-null   float64\n",
      " 9   ShoppingMall  8485 non-null   float64\n",
      " 10  Spa           8510 non-null   float64\n",
      " 11  VRDeck        8505 non-null   float64\n",
      " 12  Name          8493 non-null   object \n",
      " 13  Transported   8693 non-null   bool   \n",
      "dtypes: bool(1), float64(6), object(7)\n",
      "memory usage: 891.5+ KB\n"
     ]
    }
   ],
   "source": [
    "df.info()"
   ]
  },
  {
   "cell_type": "markdown",
   "id": "67781436-1ad5-46fe-a884-55dd514524e8",
   "metadata": {},
   "source": [
    "# Baseline:\n",
    "## random forest with default parameters"
   ]
  },
  {
   "cell_type": "code",
   "execution_count": 7,
   "id": "d696e1dd-9e03-4160-918f-2807558842f5",
   "metadata": {
    "tags": []
   },
   "outputs": [],
   "source": [
    "# step 1 impute missing data\n",
    "def impute(df):\n",
    "    for col in df.columns:\n",
    "        if df[col].dtype == 'object':\n",
    "            # For object (categorical) columns, impute with the most common value (mode)\n",
    "            df[col].fillna(df[col].mode()[0], inplace=True)\n",
    "        else:\n",
    "            # For numeric columns, impute with the mean\n",
    "            df[col].fillna(df[col].mean(), inplace=True)\n",
    "    return df\n",
    "\n",
    "df = impute(df)"
   ]
  },
  {
   "cell_type": "code",
   "execution_count": 8,
   "id": "a0fb832f-4ca9-4002-b831-ac26e0aea383",
   "metadata": {},
   "outputs": [],
   "source": [
    "# step 2: Split the data into features (X) and target (y)\n",
    "X = df.drop('Transported', axis=1)\n",
    "y = df['Transported']"
   ]
  },
  {
   "cell_type": "code",
   "execution_count": 9,
   "id": "e55281b2-0aaa-4d36-8bc9-3114839cef30",
   "metadata": {
    "tags": []
   },
   "outputs": [],
   "source": [
    "# Step 3: Encoding categorical variables\n",
    "# For simplicity, we'll use LabelEncoder for this example\n",
    "\n",
    "def encode(X,encoder):\n",
    "    for col in X.select_dtypes(include='object').columns:\n",
    "        X[col] = label_encoder.fit_transform(X[col])\n",
    "    return X\n",
    "\n",
    "label_encoder = LabelEncoder()\n",
    "\n",
    "X = encode(X,label_encoder)"
   ]
  },
  {
   "cell_type": "code",
   "execution_count": 10,
   "id": "dbf247e6-3936-4f84-a7db-84e0e2b2a039",
   "metadata": {},
   "outputs": [],
   "source": [
    "# Step 4: Split the data into training and dev sets\n",
    "# We will use 80% of the data for training and 20% for dev\n",
    "\n",
    "X_train, X_dev, y_train, y_dev = train_test_split(X, y, test_size=0.2, random_state=0)"
   ]
  },
  {
   "cell_type": "code",
   "execution_count": 11,
   "id": "596f2231-382e-4d1b-88e8-0de5d4e19c38",
   "metadata": {
    "tags": []
   },
   "outputs": [
    {
     "name": "stdout",
     "output_type": "stream",
     "text": [
      "Accuracy: 0.7901092581943646\n",
      "\n",
      "Classification Report:\n",
      "              precision    recall  f1-score   support\n",
      "\n",
      "       False       0.79      0.79      0.79       863\n",
      "        True       0.79      0.79      0.79       876\n",
      "\n",
      "    accuracy                           0.79      1739\n",
      "   macro avg       0.79      0.79      0.79      1739\n",
      "weighted avg       0.79      0.79      0.79      1739\n",
      "\n",
      "\n",
      "Confusion Matrix:\n",
      "[[684 179]\n",
      " [186 690]]\n"
     ]
    }
   ],
   "source": [
    "# Step 5: Instantiate the Random Forest classifier\n",
    "# You can set various hyperparameters of the Random Forest here\n",
    "# For simplicity, we'll use default hyperparameters\n",
    "random_forest = RandomForestClassifier(random_state=0)\n",
    "\n",
    "# Step 6: Train the Random Forest classifier\n",
    "random_forest.fit(X_train, y_train)\n",
    "\n",
    "# Step 7: Make predictions on the dev data\n",
    "y_pred = random_forest.predict(X_dev)\n",
    "\n",
    "# Step 8: Evaluate the performance of the Random Forest model\n",
    "accuracy = accuracy_score(y_dev, y_pred)\n",
    "print(\"Accuracy:\", accuracy)\n",
    "\n",
    "# You can also print other metrics like classification report and confusion matrix\n",
    "# Classification Report\n",
    "print(\"\\nClassification Report:\")\n",
    "print(classification_report(y_dev, y_pred))\n",
    "\n",
    "# Confusion Matrix\n",
    "conf_matrix = confusion_matrix(y_dev, y_pred)\n",
    "print(\"\\nConfusion Matrix:\")\n",
    "print(conf_matrix)\n"
   ]
  },
  {
   "cell_type": "code",
   "execution_count": 12,
   "id": "02b15786-dda1-4359-b5be-3524ee710662",
   "metadata": {
    "tags": []
   },
   "outputs": [],
   "source": [
    "# load the test data\n",
    "X_test = pd.read_csv(os.path.join(PATH,'test.csv'))\n",
    "\n",
    "# Step 1: handle missing values the same way as we did for the training+dev set\n",
    "X_test = impute(X_test)\n",
    "\n",
    "# Step 2: Encode categorical variables, same encoder as for training dev splits\n",
    "X_test = encode(X_test, label_encoder)"
   ]
  },
  {
   "cell_type": "code",
   "execution_count": 13,
   "id": "6b825875-53a0-4423-a17a-56767d94e67a",
   "metadata": {
    "tags": []
   },
   "outputs": [],
   "source": [
    "\n",
    "# Step 3: Make predictions on the unseen data using the trained model\n",
    "y_pred = random_forest.predict(X_test)\n",
    "\n",
    "# set path for submission data\n",
    "# PATH_SUB = './data'\n",
    "# log the prediction in the submission file\n",
    "df_submission = pd.read_csv(os.path.join(PATH,'sample_submission.csv'))\n",
    "df_submission['Transported'] = y_pred\n",
    "df_submission.to_csv('./data/submission_rfbase.csv', index=False)"
   ]
  },
  {
   "cell_type": "code",
   "execution_count": 14,
   "id": "e5f25ff9-10a5-47e0-9b31-25e84e068626",
   "metadata": {
    "tags": []
   },
   "outputs": [],
   "source": [
    "# !kaggle competitions submit -c spaceship-titanic -f sample_submission.csv -m \"random forest baseline\"\n",
    "# !kaggle competitions submissions -c spaceship-titanic"
   ]
  },
  {
   "cell_type": "markdown",
   "id": "0d56f900-aea1-46a4-b430-31943f5e4429",
   "metadata": {},
   "source": [
    "## hpyerparameter search"
   ]
  },
  {
   "cell_type": "code",
   "execution_count": 15,
   "id": "461b7f90-0f28-42a8-a157-9e8dafe8d770",
   "metadata": {
    "tags": []
   },
   "outputs": [
    {
     "name": "stderr",
     "output_type": "stream",
     "text": [
      "/home/studio-lab-user/.conda/envs/scipy/lib/python3.11/site-packages/sklearn/model_selection/_validation.py:425: FitFailedWarning: \n",
      "5 fits failed out of a total of 50.\n",
      "The score on these train-test partitions for these parameters will be set to nan.\n",
      "If these failures are not expected, you can try to debug them by setting error_score='raise'.\n",
      "\n",
      "Below are more details about the failures:\n",
      "--------------------------------------------------------------------------------\n",
      "4 fits failed with the following error:\n",
      "Traceback (most recent call last):\n",
      "  File \"/home/studio-lab-user/.conda/envs/scipy/lib/python3.11/site-packages/sklearn/model_selection/_validation.py\", line 732, in _fit_and_score\n",
      "    estimator.fit(X_train, y_train, **fit_params)\n",
      "  File \"/home/studio-lab-user/.conda/envs/scipy/lib/python3.11/site-packages/sklearn/base.py\", line 1144, in wrapper\n",
      "    estimator._validate_params()\n",
      "  File \"/home/studio-lab-user/.conda/envs/scipy/lib/python3.11/site-packages/sklearn/base.py\", line 637, in _validate_params\n",
      "    validate_parameter_constraints(\n",
      "  File \"/home/studio-lab-user/.conda/envs/scipy/lib/python3.11/site-packages/sklearn/utils/_param_validation.py\", line 95, in validate_parameter_constraints\n",
      "    raise InvalidParameterError(\n",
      "sklearn.utils._param_validation.InvalidParameterError: The 'max_features' parameter of RandomForestClassifier must be an int in the range [1, inf), a float in the range (0.0, 1.0], a str among {'log2', 'sqrt'} or None. Got 'auto' instead.\n",
      "\n",
      "--------------------------------------------------------------------------------\n",
      "1 fits failed with the following error:\n",
      "Traceback (most recent call last):\n",
      "  File \"/home/studio-lab-user/.conda/envs/scipy/lib/python3.11/site-packages/sklearn/model_selection/_validation.py\", line 732, in _fit_and_score\n",
      "    estimator.fit(X_train, y_train, **fit_params)\n",
      "  File \"/home/studio-lab-user/.conda/envs/scipy/lib/python3.11/site-packages/sklearn/base.py\", line 1144, in wrapper\n",
      "    estimator._validate_params()\n",
      "  File \"/home/studio-lab-user/.conda/envs/scipy/lib/python3.11/site-packages/sklearn/base.py\", line 637, in _validate_params\n",
      "    validate_parameter_constraints(\n",
      "  File \"/home/studio-lab-user/.conda/envs/scipy/lib/python3.11/site-packages/sklearn/utils/_param_validation.py\", line 95, in validate_parameter_constraints\n",
      "    raise InvalidParameterError(\n",
      "sklearn.utils._param_validation.InvalidParameterError: The 'max_features' parameter of RandomForestClassifier must be an int in the range [1, inf), a float in the range (0.0, 1.0], a str among {'sqrt', 'log2'} or None. Got 'auto' instead.\n",
      "\n",
      "  warnings.warn(some_fits_failed_message, FitFailedWarning)\n",
      "/home/studio-lab-user/.conda/envs/scipy/lib/python3.11/site-packages/sklearn/model_selection/_search.py:976: UserWarning: One or more of the test scores are non-finite: [0.80040248 0.79709541 0.79465009 0.79637619 0.78817889 0.79306953\n",
      " 0.79091167 0.79838975 0.79968389        nan]\n",
      "  warnings.warn(\n"
     ]
    },
    {
     "name": "stdout",
     "output_type": "stream",
     "text": [
      "Best Hyperparameters from Randomized Search: {'n_estimators': 200, 'min_samples_split': 2, 'min_samples_leaf': 2, 'max_features': 'sqrt', 'max_depth': 10}\n",
      "Best Model Accuracy from Randomized Search: 0.79700977573318\n"
     ]
    }
   ],
   "source": [
    "# only done random search. can do grid search as well by commenting out the relevant lines\n",
    "\n",
    "# # Step 1: Split the data into training and testing sets\n",
    "# X_train, X_test, y_train, y_test = train_test_split(X, y, test_size=0.2, random_state=42)\n",
    "\n",
    "# Step 2: Instantiate the Random Forest classifier\n",
    "# random_forest = RandomForestClassifier(random_state=42)\n",
    "\n",
    "# Step 3: Define the hyperparameter grid for Grid Search or Randomized Search\n",
    "param_grid = {\n",
    "    'n_estimators': [100, 200, 300],                # Number of trees in the forest\n",
    "    'max_depth': [None, 10, 20],                     # Maximum depth of each tree\n",
    "    'min_samples_split': [2, 5, 10],                 # Minimum samples required to split an internal node\n",
    "    'min_samples_leaf': [1, 2, 4],                   # Minimum samples required to be at a leaf node\n",
    "    'max_features': ['auto', 'sqrt', 'log2', None],  # Number of features to consider at each split\n",
    "    # You can add more hyperparameters to the grid based on your requirement\n",
    "}\n",
    "\n",
    "# # Step 4: Perform Grid Search\n",
    "# grid_search = GridSearchCV(rf_classifier, param_grid, cv=5, n_jobs=-1)\n",
    "# grid_search.fit(X_train, y_train)\n",
    "\n",
    "# # Step 5: Get the best hyperparameters and corresponding model\n",
    "# best_params_grid = grid_search.best_params_\n",
    "# best_rf_model_grid = grid_search.best_estimator_\n",
    "\n",
    "# Step 6: Perform Randomized Search\n",
    "randomized_search = RandomizedSearchCV(random_forest, param_distributions=param_grid, n_iter=10, cv=5, n_jobs=-1)\n",
    "randomized_search.fit(X_train, y_train)\n",
    "\n",
    "# Step 7: Get the best hyperparameters and corresponding model from Randomized Search\n",
    "best_params_random = randomized_search.best_params_\n",
    "best_rf_model_random = randomized_search.best_estimator_\n",
    "\n",
    "# Step 8: Evaluate the best models on the test data\n",
    "# accuracy_grid = best_rf_model_grid.score(X_dev, y_dev)\n",
    "accuracy_random = best_rf_model_random.score(X_dev, y_dev)\n",
    "\n",
    "# print(\"Best Hyperparameters from Grid Search:\", best_params_grid)\n",
    "# print(\"Best Model Accuracy from Grid Search:\", accuracy_grid)\n",
    "\n",
    "print(\"Best Hyperparameters from Randomized Search:\", best_params_random)\n",
    "print(\"Best Model Accuracy from Randomized Search:\", accuracy_random)\n"
   ]
  },
  {
   "cell_type": "code",
   "execution_count": 16,
   "id": "8fb798cb-4029-4c9c-8149-7e53a83448fc",
   "metadata": {
    "tags": []
   },
   "outputs": [],
   "source": [
    "# inference on the test data (already processed earlier)\n",
    "y_pred = random_forest.predict(X_test)\n",
    "\n",
    "# log predictions in the submision file\n",
    "df_submission =  pd.read_csv(os.path.join(PATH,'sample_submission.csv'))\n",
    "df_submission['Transported'] = y_pred\n",
    "df_submission.to_csv('./data/submission_rftuned.csv', index=False)"
   ]
  },
  {
   "cell_type": "code",
   "execution_count": 17,
   "id": "e935e41b-6623-46b1-9379-b2ba08e22c77",
   "metadata": {
    "tags": []
   },
   "outputs": [],
   "source": [
    "# !kaggle competitions submit -c spaceship-titanic -f './data/submission_rftuned.csv' -m \"random forest parameter tuned\"\n",
    "# !kaggle competitions submissions -c spaceship-titanic"
   ]
  },
  {
   "cell_type": "markdown",
   "id": "091b4c21-bc19-4879-8346-401e71bb52a9",
   "metadata": {},
   "source": [
    "# Save the model"
   ]
  },
  {
   "cell_type": "code",
   "execution_count": 18,
   "id": "6c215544-b316-4911-bf69-a1bb6b2e0e23",
   "metadata": {
    "tags": []
   },
   "outputs": [],
   "source": [
    "import joblib"
   ]
  },
  {
   "cell_type": "code",
   "execution_count": 19,
   "id": "8b76ef33-0bd4-4454-88b9-a7f17a1009b0",
   "metadata": {},
   "outputs": [
    {
     "data": {
      "text/plain": [
       "True"
      ]
     },
     "execution_count": 19,
     "metadata": {},
     "output_type": "execute_result"
    }
   ],
   "source": [
    "# Save the learned parameters and the Random Forest estimator using joblib\n",
    "joblib.dump(random_forest, './models/rf_tuned.pkl')\n",
    "# Load the saved Random Forest model\n",
    "rf_tuned = joblib.load('./models/rf_tuned.pkl')\n",
    "# Use the loaded model for predictions\n",
    "y_pred_reload = rf_tuned.predict(X_test)\n",
    "\n",
    "all(y_pred_reload == y_pred)"
   ]
  },
  {
   "cell_type": "code",
   "execution_count": null,
   "id": "edb908db-e9c3-47b7-ade1-ead658fb481d",
   "metadata": {},
   "outputs": [],
   "source": []
  }
 ],
 "metadata": {
  "kernelspec": {
   "display_name": "scipy:Python",
   "language": "python",
   "name": "conda-env-scipy-py"
  },
  "language_info": {
   "codemirror_mode": {
    "name": "ipython",
    "version": 3
   },
   "file_extension": ".py",
   "mimetype": "text/x-python",
   "name": "python",
   "nbconvert_exporter": "python",
   "pygments_lexer": "ipython3",
   "version": "3.11.4"
  }
 },
 "nbformat": 4,
 "nbformat_minor": 5
}
