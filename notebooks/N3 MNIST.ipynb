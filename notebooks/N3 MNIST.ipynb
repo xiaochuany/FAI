{
 "cells": [
  {
   "cell_type": "markdown",
   "id": "de3fd25b",
   "metadata": {},
   "source": [
    "To load the MNIST data with PyTorch, you can use the torchvision package, which provides a set of utilities for loading and transforming datasets, including the MNIST dataset. Here's an example of how you can load the MNIST training data with torchvision:"
   ]
  },
  {
   "cell_type": "code",
   "execution_count": 1,
   "id": "b0f1221d",
   "metadata": {},
   "outputs": [
    {
     "name": "stdout",
     "output_type": "stream",
     "text": [
      "Downloading http://yann.lecun.com/exdb/mnist/train-images-idx3-ubyte.gz\n"
     ]
    },
    {
     "name": "stderr",
     "output_type": "stream",
     "text": [
      "2.0%"
     ]
    },
    {
     "name": "stdout",
     "output_type": "stream",
     "text": [
      "Downloading http://yann.lecun.com/exdb/mnist/train-images-idx3-ubyte.gz to ./data\\MNIST\\raw\\train-images-idx3-ubyte.gz\n"
     ]
    },
    {
     "name": "stderr",
     "output_type": "stream",
     "text": [
      "100.0%\n"
     ]
    },
    {
     "name": "stdout",
     "output_type": "stream",
     "text": [
      "Extracting ./data\\MNIST\\raw\\train-images-idx3-ubyte.gz to ./data\\MNIST\\raw\n",
      "\n",
      "Downloading http://yann.lecun.com/exdb/mnist/train-labels-idx1-ubyte.gz\n"
     ]
    },
    {
     "name": "stderr",
     "output_type": "stream",
     "text": [
      "\r",
      "100.0%"
     ]
    },
    {
     "name": "stdout",
     "output_type": "stream",
     "text": [
      "Downloading http://yann.lecun.com/exdb/mnist/train-labels-idx1-ubyte.gz to ./data\\MNIST\\raw\\train-labels-idx1-ubyte.gz\n",
      "Extracting ./data\\MNIST\\raw\\train-labels-idx1-ubyte.gz to ./data\\MNIST\\raw\n",
      "\n",
      "Downloading http://yann.lecun.com/exdb/mnist/t10k-images-idx3-ubyte.gz\n"
     ]
    },
    {
     "name": "stderr",
     "output_type": "stream",
     "text": [
      "\n",
      "7.9%"
     ]
    },
    {
     "name": "stdout",
     "output_type": "stream",
     "text": [
      "Downloading http://yann.lecun.com/exdb/mnist/t10k-images-idx3-ubyte.gz to ./data\\MNIST\\raw\\t10k-images-idx3-ubyte.gz\n"
     ]
    },
    {
     "name": "stderr",
     "output_type": "stream",
     "text": [
      "100.0%\n",
      "100.0%\n"
     ]
    },
    {
     "name": "stdout",
     "output_type": "stream",
     "text": [
      "Extracting ./data\\MNIST\\raw\\t10k-images-idx3-ubyte.gz to ./data\\MNIST\\raw\n",
      "\n",
      "Downloading http://yann.lecun.com/exdb/mnist/t10k-labels-idx1-ubyte.gz\n",
      "Downloading http://yann.lecun.com/exdb/mnist/t10k-labels-idx1-ubyte.gz to ./data\\MNIST\\raw\\t10k-labels-idx1-ubyte.gz\n",
      "Extracting ./data\\MNIST\\raw\\t10k-labels-idx1-ubyte.gz to ./data\\MNIST\\raw\n",
      "\n"
     ]
    }
   ],
   "source": [
    "import torch\n",
    "import torchvision\n",
    "import torchvision.transforms as transforms\n",
    "\n",
    "# Transform the data to tensors and normalize it\n",
    "transform = transforms.Compose([\n",
    "    transforms.ToTensor(),\n",
    "    transforms.Normalize((0.5,), (0.5,))\n",
    "])\n",
    "\n",
    "# Load the training data\n",
    "trainset = torchvision.datasets.MNIST(root='./data', train=True, download=True, transform=transform)\n",
    "trainloader = torch.utils.data.DataLoader(trainset, batch_size=64, shuffle=True, num_workers=2)\n",
    "\n",
    "# Test Data\n",
    "testset = torchvision.datasets.MNIST(root='./data', train=False, download=True, transform=transform)\n",
    "testloader = torch.utils.data.DataLoader(testset, batch_size=64, shuffle=False, num_workers=2)"
   ]
  },
  {
   "cell_type": "markdown",
   "id": "14260beb",
   "metadata": {},
   "source": [
    "To view the first examples in the MNIST dataset after loading it with PyTorch, you can use the iter function to retrieve the first mini-batch of examples from the data loader, and then use the `.numpy()` method to convert the tensors to numpy arrays, which can be easily plotted using Matplotlib or a similar library."
   ]
  },
  {
   "cell_type": "code",
   "execution_count": 5,
   "id": "89c8d049",
   "metadata": {},
   "outputs": [
    {
     "data": {
      "image/png": "[encoded data removed]",
      "text/plain": [
       "<Figure size 640x480 with 1 Axes>"
      ]
     },
     "metadata": {},
     "output_type": "display_data"
    }
   ],
   "source": [
    "import matplotlib.pyplot as plt\n",
    "\n",
    "# Get the first batch of training examples\n",
    "images, labels = next(iter(trainloader))\n",
    "\n",
    "# Convert the images to numpy arrays and plot them\n",
    "plt.imshow(images[0].numpy().squeeze(), cmap='gray')\n",
    "plt.show()\n"
   ]
  },
  {
   "cell_type": "markdown",
   "id": "544d0198",
   "metadata": {},
   "source": [
    "The .squeeze() method is used to remove single-dimensional entries from the shape of an array. In the case of image data, this is often used to remove the singleton dimensions from the shape of the tensor that represent the number of color channels.\n",
    "\n",
    "For example, if you have an image tensor with shape (1, 28, 28), which represents a single grayscale image with height 28 and width 28, you can use .squeeze() to remove the leading dimension with size 1, resulting in a tensor with shape (28, 28):"
   ]
  },
  {
   "cell_type": "code",
   "execution_count": 6,
   "id": "c878dd33",
   "metadata": {},
   "outputs": [
    {
     "data": {
      "text/plain": [
       "torch.Size([3, 3])"
      ]
     },
     "execution_count": 6,
     "metadata": {},
     "output_type": "execute_result"
    }
   ],
   "source": [
    "image_tensor = torch.tensor([[[1.0, 2.0, 3.0],\n",
    "                              [4.0, 5.0, 6.0],\n",
    "                              [7.0, 8.0, 9.0]]])\n",
    "\n",
    "image_tensor.shape  # (1, 3, 3)\n",
    "image_tensor.squeeze().shape  # (3, 3)\n"
   ]
  },
  {
   "cell_type": "code",
   "execution_count": 7,
   "id": "924c069a",
   "metadata": {},
   "outputs": [
    {
     "data": {
      "text/plain": [
       "tensor(2)"
      ]
     },
     "execution_count": 7,
     "metadata": {},
     "output_type": "execute_result"
    }
   ],
   "source": [
    "labels[0]"
   ]
  },
  {
   "cell_type": "code",
   "execution_count": 8,
   "id": "567598a6",
   "metadata": {},
   "outputs": [
    {
     "name": "stdout",
     "output_type": "stream",
     "text": [
      "Epoch [1/5], Step [100/600], Loss: 0.3398\n",
      "Epoch [1/5], Step [200/600], Loss: 0.2516\n",
      "Epoch [1/5], Step [300/600], Loss: 0.2974\n",
      "Epoch [1/5], Step [400/600], Loss: 0.2057\n",
      "Epoch [1/5], Step [500/600], Loss: 0.2116\n",
      "Epoch [1/5], Step [600/600], Loss: 0.2058\n",
      "Epoch [2/5], Step [100/600], Loss: 0.1313\n",
      "Epoch [2/5], Step [200/600], Loss: 0.1723\n",
      "Epoch [2/5], Step [300/600], Loss: 0.1451\n",
      "Epoch [2/5], Step [400/600], Loss: 0.1027\n",
      "Epoch [2/5], Step [500/600], Loss: 0.0419\n",
      "Epoch [2/5], Step [600/600], Loss: 0.1451\n",
      "Epoch [3/5], Step [100/600], Loss: 0.1168\n",
      "Epoch [3/5], Step [200/600], Loss: 0.0360\n",
      "Epoch [3/5], Step [300/600], Loss: 0.1214\n",
      "Epoch [3/5], Step [400/600], Loss: 0.0231\n",
      "Epoch [3/5], Step [500/600], Loss: 0.0956\n",
      "Epoch [3/5], Step [600/600], Loss: 0.0470\n",
      "Epoch [4/5], Step [100/600], Loss: 0.0342\n",
      "Epoch [4/5], Step [200/600], Loss: 0.0475\n",
      "Epoch [4/5], Step [300/600], Loss: 0.0354\n",
      "Epoch [4/5], Step [400/600], Loss: 0.0310\n",
      "Epoch [4/5], Step [500/600], Loss: 0.0798\n",
      "Epoch [4/5], Step [600/600], Loss: 0.1203\n",
      "Epoch [5/5], Step [100/600], Loss: 0.0235\n",
      "Epoch [5/5], Step [200/600], Loss: 0.0569\n",
      "Epoch [5/5], Step [300/600], Loss: 0.0379\n",
      "Epoch [5/5], Step [400/600], Loss: 0.0114\n",
      "Epoch [5/5], Step [500/600], Loss: 0.0829\n",
      "Epoch [5/5], Step [600/600], Loss: 0.0244\n"
     ]
    }
   ],
   "source": [
    "import torch\n",
    "import torch.nn as nn\n",
    "import torch.optim as optim\n",
    "import torchvision\n",
    "import torchvision.transforms as transforms\n",
    "\n",
    "# Device configuration\n",
    "device = torch.device('cuda' if torch.cuda.is_available() else 'cpu')\n",
    "\n",
    "# Hyperparameters\n",
    "num_epochs = 5\n",
    "learning_rate = 0.001\n",
    "\n",
    "# MNIST dataset\n",
    "train_dataset = torchvision.datasets.MNIST(root='./data',\n",
    "                                           train=True,\n",
    "                                           transform=transforms.ToTensor(),\n",
    "                                           download=False)\n",
    "\n",
    "test_dataset = torchvision.datasets.MNIST(root='./data',\n",
    "                                          train=False,\n",
    "                                          transform=transforms.ToTensor())\n",
    "\n",
    "# Data loader\n",
    "train_loader = torch.utils.data.DataLoader(dataset=train_dataset,\n",
    "                                           batch_size=100,\n",
    "                                           shuffle=True)\n",
    "\n",
    "test_loader = torch.utils.data.DataLoader(dataset=test_dataset,\n",
    "                                          batch_size=100,\n",
    "                                          shuffle=False)\n",
    "\n",
    "# Neural network\n",
    "class NeuralNet(nn.Module):\n",
    "    def __init__(self, input_size, hidden_size, num_classes):\n",
    "        super(NeuralNet, self).__init__()\n",
    "        self.fc1 = nn.Linear(input_size, hidden_size) \n",
    "        self.relu = nn.ReLU()\n",
    "        self.fc2 = nn.Linear(hidden_size, num_classes)  \n",
    "    \n",
    "    def forward(self, x):\n",
    "        out = self.fc1(x)\n",
    "        out = self.relu(out)\n",
    "        out = self.fc2(out)\n",
    "        return out\n",
    "\n",
    "model = NeuralNet(input_size=28*28, hidden_size=500, num_classes=10).to(device)\n",
    "\n",
    "# Loss and optimizer\n",
    "criterion = nn.CrossEntropyLoss()\n",
    "optimizer = optim.Adam(model.parameters(), lr=learning_rate)\n",
    "\n",
    "# Train the model\n",
    "total_step = len(train_loader)\n",
    "for epoch in range(num_epochs):\n",
    "    for i, (images, labels) in enumerate(train_loader):\n",
    "        # Move tensors to the configured device\n",
    "        images = images.reshape(-1, 28*28).to(device)\n",
    "        labels = labels.to(device)\n",
    "        \n",
    "        # Forward pass\n",
    "        outputs = model(images)\n",
    "        loss = criterion(outputs, labels)\n",
    "        \n",
    "        # Backward and optimize\n",
    "        optimizer.zero_grad()\n",
    "        loss.backward()\n",
    "        optimizer.step()\n",
    "        \n",
    "        if (i+1) % 100 == 0:\n",
    "            print ('Epoch [{}/{}], Step [{}/{}], Loss: {:.4f}' \n",
    "                   .format(epoch+1, num_epochs, i+1, total_step, loss.item()))\n",
    "\n",
    "# Test the model\n",
    "# In test phase, we don't need to compute gradients\n"
   ]
  },
  {
   "cell_type": "code",
   "execution_count": 15,
   "id": "9a088bf7",
   "metadata": {},
   "outputs": [
    {
     "name": "stdout",
     "output_type": "stream",
     "text": [
      "Accuracy of the network on the 10000 test images: 97.78 %\n"
     ]
    }
   ],
   "source": [
    "# Test the model\n",
    "model.eval()  # Set the model to evaluation mode\n",
    "\n",
    "\n",
    "with torch.no_grad():\n",
    "    correct = 0\n",
    "    total = 0\n",
    "\n",
    "\n",
    "# Iterate through the test data\n",
    "for images, labels in test_loader:\n",
    "    # Move the data to the device where the model is running\n",
    "    images = images.reshape(-1, 28*28).to(device)\n",
    "    labels = labels.to(device)\n",
    "\n",
    "    # Forward pass\n",
    "    outputs = model(images)\n",
    "\n",
    "    # Get the predictions\n",
    "    _, predicted = torch.max(outputs.data, 1)\n",
    "\n",
    "    # Update the accuracy\n",
    "    total += labels.size(0)\n",
    "    correct += (predicted == labels).sum().item()\n",
    "\n",
    "# Print the accuracy\n",
    "print('Accuracy of the network on the 10000 test images: {} %'.format(100 * correct / total))\n"
   ]
  },
  {
   "cell_type": "code",
   "execution_count": null,
   "id": "dcf6ad97",
   "metadata": {},
   "outputs": [],
   "source": []
  }
 ],
 "metadata": {
  "kernelspec": {
   "display_name": "Python 3 (ipykernel)",
   "language": "python",
   "name": "python3"
  },
  "language_info": {
   "codemirror_mode": {
    "name": "ipython",
    "version": 3
   },
   "file_extension": ".py",
   "mimetype": "text/x-python",
   "name": "python",
   "nbconvert_exporter": "python",
   "pygments_lexer": "ipython3",
   "version": "3.10.8"
  }
 },
 "nbformat": 4,
 "nbformat_minor": 5
}
