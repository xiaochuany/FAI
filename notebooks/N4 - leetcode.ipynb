{
 "cells": [
  {
   "cell_type": "markdown",
   "id": "2cadeb89",
   "metadata": {},
   "source": [
    "# 1 two sum\n",
    "\n",
    "Given an array of integers nums and an integer target, return indices of the two numbers such that they add up to target.\n",
    "You may assume that each input would have exactly one solution, and you may not use the same element twice.\n",
    "You can return the answer in any order."
   ]
  },
  {
   "cell_type": "markdown",
   "id": "aa0ca963",
   "metadata": {},
   "source": [
    "a brutal force search has time complexity $O(n^2)$, and space complexity $O(1)$."
   ]
  },
  {
   "cell_type": "code",
   "execution_count": 35,
   "id": "5b0fbb76",
   "metadata": {},
   "outputs": [],
   "source": [
    "class Solution(object):\n",
    "    def twoSum(self, nums, target):\n",
    "        \"\"\"\n",
    "        :type nums: List[int]\n",
    "        :type target: int\n",
    "        :rtype: List[int]\n",
    "        \"\"\"\n",
    "        for i in range(len(nums)):\n",
    "            for j in range(i+1, len(nums)):\n",
    "                if target - nums[i] == nums[j]:\n",
    "                    return [i,j]\n",
    "    "
   ]
  },
  {
   "cell_type": "markdown",
   "id": "3f141ae6",
   "metadata": {},
   "source": [
    "another idea is to sort the data first then check check whether the target matches the sum of two ends of the sorted data. \n",
    "The time complexity is $O(n\\log n)$, and space complexity $O(n)$. "
   ]
  },
  {
   "cell_type": "code",
   "execution_count": 36,
   "id": "8ba7f2ed",
   "metadata": {},
   "outputs": [],
   "source": [
    "class Solution(object):\n",
    "    def twoSum(self, nums, target):\n",
    "        \"\"\"\n",
    "        :type nums: List[int]\n",
    "        :type target: int\n",
    "        :rtype: List[int]\n",
    "        \"\"\"\n",
    "        num_dic = {num:i for i, num in enumerate(nums)}\n",
    "        snums = sorted(nums)\n",
    "        i = 0\n",
    "        j = len(snums)-1\n",
    "        while snums[i]+snums[j] != target:\n",
    "            if  snums[i]+snums[j]< target:\n",
    "                i = i + 1\n",
    "            else:\n",
    "                j = j- 1\n",
    "        return [num_dic[snums[i]],num_dic[snums[j]]]"
   ]
  },
  {
   "cell_type": "markdown",
   "id": "df4ed27e",
   "metadata": {},
   "source": [
    "this looks ok - but actually produces a bug.  Conside the test case `nums = [3,3]` and `target = 3`. We've overwritten the fisrt key-value pair because the second key is the same as the first key. "
   ]
  },
  {
   "cell_type": "code",
   "execution_count": 37,
   "id": "93e9788a",
   "metadata": {
    "scrolled": true
   },
   "outputs": [
    {
     "name": "stdout",
     "output_type": "stream",
     "text": [
      "{3: 1}\n"
     ]
    }
   ],
   "source": [
    "dictionary = {3:0, 3:1}\n",
    "print(dictionary)"
   ]
  },
  {
   "cell_type": "markdown",
   "id": "0eac51b5",
   "metadata": {},
   "source": [
    "Here is how we fix it: "
   ]
  },
  {
   "cell_type": "code",
   "execution_count": 38,
   "id": "4afcec8d",
   "metadata": {},
   "outputs": [
    {
     "name": "stdout",
     "output_type": "stream",
     "text": [
      "{3: [0, 1]}\n"
     ]
    }
   ],
   "source": [
    "dictionary = {3:[0]}\n",
    "dictionary[3].append(1)\n",
    "print(dictionary)"
   ]
  },
  {
   "cell_type": "code",
   "execution_count": 39,
   "id": "e4744d51",
   "metadata": {},
   "outputs": [],
   "source": [
    "class Solution(object):\n",
    "    def twoSum(self, nums, target):\n",
    "        \"\"\"\n",
    "        :type nums: List[int]\n",
    "        :type target: int\n",
    "        :rtype: List[int]\n",
    "        \"\"\"\n",
    "        num_dic = {}\n",
    "        for i, num in enumerate(nums):\n",
    "            if num in num_dic:\n",
    "                num_dic[num].append(i)\n",
    "            else:\n",
    "                num_dic[num] = [i]\n",
    "        snums = sorted(nums)\n",
    "        i = 0\n",
    "        j = len(snums) - 1\n",
    "        while i < j:\n",
    "            if snums[i] + snums[j] == target:\n",
    "                if snums[i] == snums[j]:\n",
    "                    return num_dic[snums[i]]\n",
    "                else:\n",
    "                    return [num_dic[snums[i]][0], num_dic[snums[j]][0]]\n",
    "            elif snums[i] + snums[j] < target:\n",
    "                i += 1\n",
    "            else:\n",
    "                j -= 1"
   ]
  },
  {
   "cell_type": "code",
   "execution_count": 33,
   "id": "221b0331",
   "metadata": {},
   "outputs": [
    {
     "data": {
      "text/plain": [
       "[0, 1]"
      ]
     },
     "execution_count": 33,
     "metadata": {},
     "output_type": "execute_result"
    }
   ],
   "source": [
    "sol = Solution()\n",
    "sol.twoSum([3,3],6)"
   ]
  },
  {
   "cell_type": "markdown",
   "id": "01e0b2dd",
   "metadata": {},
   "source": [
    "Ok, we made it! Our runtime is not bad but the official solution is presumably faster with $O(n)$ time complexity. They use hash table which might be the topic for another day.  "
   ]
  },
  {
   "cell_type": "markdown",
   "id": "b4d57bdb",
   "metadata": {},
   "source": [
    "# 2  add two numbers\n",
    "\n",
    "You are given two non-empty linked lists representing two non-negative integers. The digits are stored in reverse order, and each of their nodes contains a single digit. Add the two numbers and return the sum as a linked list. \n",
    "\n",
    "You may assume the two numbers do not contain any leading zero, except the number 0 itself."
   ]
  },
  {
   "cell_type": "code",
   "execution_count": 4,
   "id": "fc4f08a8",
   "metadata": {},
   "outputs": [],
   "source": [
    "# Definition for singly-linked list.\n",
    "class ListNode:\n",
    "    def __init__(self, val=0, next=None):\n",
    "        self.val = val\n",
    "        self.next = next\n",
    "class Solution:\n",
    "    def addTwoNumbers(self, l1: ListNode, l2: ListNode) -> ListNode:\n",
    "        dummy = current = ListNode(0)\n",
    "        carry = 0\n",
    "        while l1 or l2 or carry:\n",
    "            if l1: \n",
    "                carry += l1.val\n",
    "                l1 = l1.next\n",
    "            if l2:\n",
    "                carry += l2.val\n",
    "                l2 = l2.next\n",
    "            current.next = ListNode(carry % 10)\n",
    "            current = current.next\n",
    "            carry //= 10\n",
    "        return dummy.next"
   ]
  },
  {
   "cell_type": "code",
   "execution_count": 9,
   "id": "68e5cc92",
   "metadata": {},
   "outputs": [
    {
     "name": "stdout",
     "output_type": "stream",
     "text": [
      "7 -> 1 -> 1 -> None\n"
     ]
    }
   ],
   "source": [
    "a1 = ListNode(8)\n",
    "a2 = ListNode(9)\n",
    "a1.next = a2\n",
    "b1 = ListNode(9)\n",
    "b2 = ListNode(1)\n",
    "b1.next = b2\n",
    "sol = Solution()\n",
    "result = sol.addTwoNumbers(a1,b1)\n",
    "while result:\n",
    "    print(result.val, end=' -> ')\n",
    "    result = result.next\n",
    "print('None')"
   ]
  },
  {
   "cell_type": "markdown",
   "id": "5163365c",
   "metadata": {},
   "source": [
    "Linear complexity both time and memory. "
   ]
  },
  {
   "cell_type": "markdown",
   "id": "a3a3e690",
   "metadata": {},
   "source": [
    "# 3 "
   ]
  }
 ],
 "metadata": {
  "kernelspec": {
   "display_name": "Python 3 (ipykernel)",
   "language": "python",
   "name": "python3"
  },
  "language_info": {
   "codemirror_mode": {
    "name": "ipython",
    "version": 3
   },
   "file_extension": ".py",
   "mimetype": "text/x-python",
   "name": "python",
   "nbconvert_exporter": "python",
   "pygments_lexer": "ipython3",
   "version": "3.9.12"
  }
 },
 "nbformat": 4,
 "nbformat_minor": 5
}
