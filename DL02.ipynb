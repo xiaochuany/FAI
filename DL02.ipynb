{
 "cells": [
  {
   "cell_type": "markdown",
   "id": "64e58573",
   "metadata": {},
   "source": [
    "### three hidden layers, sigmoid, squared loss"
   ]
  },
  {
   "cell_type": "code",
   "execution_count": 74,
   "id": "9da8a67c",
   "metadata": {},
   "outputs": [],
   "source": [
    "import numpy as np\n",
    "\n",
    "'''read the data'''\n",
    "\n",
    "# Specify the path to the CSV file\n",
    "path_train = 'data/MNIST_train_1000.csv'\n",
    "path_test = 'data/MNIST_test_100.csv'\n",
    "\n",
    "\n",
    "data_train = np.genfromtxt(path_train, delimiter=',', skip_header=0, dtype=int)\n",
    "data_test = np.genfromtxt(path_test, delimiter=',', skip_header=0, dtype=int)"
   ]
  },
  {
   "cell_type": "code",
   "execution_count": 75,
   "id": "de280058",
   "metadata": {},
   "outputs": [],
   "source": [
    "m,m1 = data_train.shape[0], data_test.shape[0]\n",
    "ny = 10"
   ]
  },
  {
   "cell_type": "code",
   "execution_count": 76,
   "id": "e74212c6",
   "metadata": {},
   "outputs": [],
   "source": [
    "'''\n",
    "get the training and test split and one-hot embedding of labels \n",
    "\n",
    "notice that each example is a column\n",
    "'''\n",
    "\n",
    "X_train = data_train[:,1:].T/255\n",
    "\n",
    "Y_train = np.zeros([ny,m])\n",
    "Y_train[data_train[:,0],range(m)]=1\n",
    "\n",
    "\n",
    "X_test = data_test[:,1:].T/255\n",
    "\n",
    "Y_test = np.zeros([ny,m1])\n",
    "Y_test[data_test[:,0],range(m1)]=1\n",
    "\n",
    "nx = X_train.shape[0]"
   ]
  },
  {
   "cell_type": "code",
   "execution_count": 77,
   "id": "f604a38c",
   "metadata": {},
   "outputs": [],
   "source": [
    "'''permute the data for SGD'''\n",
    "\n",
    "perm_idx = np.random.permutation(m)\n",
    "X_train = X_train[:,perm_idx]\n",
    "Y_train = Y_train[:,perm_idx]"
   ]
  },
  {
   "cell_type": "code",
   "execution_count": 78,
   "id": "2aad962b",
   "metadata": {},
   "outputs": [],
   "source": [
    "'''define mini-batches and set up the number of hidden nodes'''\n",
    "\n",
    "batch_size = 20\n",
    "nh1,nh2,nh3 = 100,100,100"
   ]
  },
  {
   "cell_type": "code",
   "execution_count": 79,
   "id": "8dc0c773",
   "metadata": {},
   "outputs": [],
   "source": [
    "'''initialise weights and biases for three layer feed forward fully connected neural network'''\n",
    "\n",
    "rng = np.random.default_rng()\n",
    "W1 = (1/nx**0.5)*rng.normal(0,1,[nx,nh1])\n",
    "b1 = np.zeros([nh1,1])\n",
    "W2 = (1/nh1**0.5)*rng.normal(0,1,[nh1,nh2])\n",
    "b2 = np.zeros([nh2,1])\n",
    "W3 = (1/nh2**0.5)*rng.normal(0,1,[nh2,nh3])\n",
    "b3 = np.zeros([nh3,1])\n",
    "W4 = (1/nh3**0.5)*rng.normal(0,1,[nh3,ny])\n",
    "b4 = np.zeros([ny,1])"
   ]
  },
  {
   "cell_type": "code",
   "execution_count": 80,
   "id": "64c1c16e",
   "metadata": {},
   "outputs": [],
   "source": [
    "''' define a few helper functions and hyperparameters '''\n",
    "def sig(x):\n",
    "    return 1/(1+np.exp(-x))\n",
    "\n",
    "n_batches = int(m/batch_size)\n",
    "lr = 0.05\n",
    "n_epoch = 100\n",
    "\n",
    "errors =[]"
   ]
  },
  {
   "cell_type": "code",
   "execution_count": 81,
   "id": "9616b989",
   "metadata": {},
   "outputs": [
    {
     "name": "stdout",
     "output_type": "stream",
     "text": [
      "Epoch: 0 TSE: 469.6318823835026\n",
      "Epoch: 1 TSE: 452.9002396073345\n",
      "Epoch: 2 TSE: 452.4348558215131\n",
      "Epoch: 3 TSE: 452.9400192414007\n",
      "Epoch: 4 TSE: 452.2519546141117\n",
      "Epoch: 5 TSE: 451.92079440273403\n",
      "Epoch: 6 TSE: 452.2636532914381\n",
      "Epoch: 7 TSE: 451.92814303081013\n",
      "Epoch: 8 TSE: 451.21750634976644\n",
      "Epoch: 9 TSE: 450.9319521158411\n",
      "Epoch: 10 TSE: 451.2451851746739\n",
      "Epoch: 11 TSE: 450.61720545325534\n",
      "Epoch: 12 TSE: 449.6011775083856\n",
      "Epoch: 13 TSE: 449.84328621536787\n",
      "Epoch: 14 TSE: 449.2201359051634\n",
      "Epoch: 15 TSE: 448.4304716223497\n",
      "Epoch: 16 TSE: 447.4783024920154\n",
      "Epoch: 17 TSE: 445.8824011938382\n",
      "Epoch: 18 TSE: 443.0264541091534\n",
      "Epoch: 19 TSE: 439.2657251254331\n",
      "Epoch: 20 TSE: 430.54163880796835\n",
      "Epoch: 21 TSE: 416.3881836027115\n",
      "Epoch: 22 TSE: 401.19164478621747\n",
      "Epoch: 23 TSE: 384.3840277197916\n",
      "Epoch: 24 TSE: 364.79640556353775\n",
      "Epoch: 25 TSE: 343.4502202439308\n",
      "Epoch: 26 TSE: 320.4013154468869\n",
      "Epoch: 27 TSE: 296.14800446266923\n",
      "Epoch: 28 TSE: 275.6292335862288\n",
      "Epoch: 29 TSE: 260.1035682640938\n",
      "Epoch: 30 TSE: 242.8794418122774\n",
      "Epoch: 31 TSE: 232.79539591095983\n",
      "Epoch: 32 TSE: 220.30558101427417\n",
      "Epoch: 33 TSE: 211.35057543135915\n",
      "Epoch: 34 TSE: 202.78592636583235\n",
      "Epoch: 35 TSE: 194.4395543301897\n",
      "Epoch: 36 TSE: 184.73212970596884\n",
      "Epoch: 37 TSE: 177.67258619695733\n",
      "Epoch: 38 TSE: 168.67375870585605\n",
      "Epoch: 39 TSE: 156.56873135101898\n",
      "Epoch: 40 TSE: 148.28453343071004\n",
      "Epoch: 41 TSE: 135.0760339142882\n",
      "Epoch: 42 TSE: 127.00117024999386\n",
      "Epoch: 43 TSE: 119.63822944596303\n",
      "Epoch: 44 TSE: 110.57737325601693\n",
      "Epoch: 45 TSE: 99.12574695360799\n",
      "Epoch: 46 TSE: 96.07103957203\n",
      "Epoch: 47 TSE: 89.49721570117158\n",
      "Epoch: 48 TSE: 84.27007759145492\n",
      "Epoch: 49 TSE: 79.61428186614287\n",
      "Epoch: 50 TSE: 75.95304636889405\n",
      "Epoch: 51 TSE: 71.13166950007148\n",
      "Epoch: 52 TSE: 68.97777889551482\n",
      "Epoch: 53 TSE: 64.53984728754949\n",
      "Epoch: 54 TSE: 61.68303339197464\n",
      "Epoch: 55 TSE: 58.88116847858869\n",
      "Epoch: 56 TSE: 56.425385556529804\n",
      "Epoch: 57 TSE: 55.419160322223426\n",
      "Epoch: 58 TSE: 50.19787404203204\n",
      "Epoch: 59 TSE: 49.147830622604566\n",
      "Epoch: 60 TSE: 47.453325538087434\n",
      "Epoch: 61 TSE: 44.384475613355306\n",
      "Epoch: 62 TSE: 43.166821160129544\n",
      "Epoch: 63 TSE: 41.64368667071093\n",
      "Epoch: 64 TSE: 39.36643491951585\n",
      "Epoch: 65 TSE: 37.84980636869712\n",
      "Epoch: 66 TSE: 36.27450057702594\n",
      "Epoch: 67 TSE: 35.36643448332028\n",
      "Epoch: 68 TSE: 33.36927390925088\n",
      "Epoch: 69 TSE: 32.49864963838086\n",
      "Epoch: 70 TSE: 31.159467631622842\n",
      "Epoch: 71 TSE: 30.09996833573166\n",
      "Epoch: 72 TSE: 28.920884548999307\n",
      "Epoch: 73 TSE: 27.919684596748144\n",
      "Epoch: 74 TSE: 27.257420871283365\n",
      "Epoch: 75 TSE: 25.974782961836585\n",
      "Epoch: 76 TSE: 25.269271377232446\n",
      "Epoch: 77 TSE: 24.58856322318611\n",
      "Epoch: 78 TSE: 23.875020732254573\n",
      "Epoch: 79 TSE: 23.681017241900854\n",
      "Epoch: 80 TSE: 22.556443133446347\n",
      "Epoch: 81 TSE: 22.32395093379479\n",
      "Epoch: 82 TSE: 21.657516362628964\n",
      "Epoch: 83 TSE: 21.377310318478248\n",
      "Epoch: 84 TSE: 20.745098801238164\n",
      "Epoch: 85 TSE: 20.286463009471856\n",
      "Epoch: 86 TSE: 19.770658865719962\n",
      "Epoch: 87 TSE: 19.51870736434397\n",
      "Epoch: 88 TSE: 19.080560702506705\n",
      "Epoch: 89 TSE: 18.593114309027484\n",
      "Epoch: 90 TSE: 18.063385153327495\n",
      "Epoch: 91 TSE: 17.990033272007196\n",
      "Epoch: 92 TSE: 17.563055033865673\n",
      "Epoch: 93 TSE: 17.22903746858442\n",
      "Epoch: 94 TSE: 16.909255037762566\n",
      "Epoch: 95 TSE: 16.682804613468207\n",
      "Epoch: 96 TSE: 16.29574196528127\n",
      "Epoch: 97 TSE: 16.103940923808185\n",
      "Epoch: 98 TSE: 15.990175757934917\n",
      "Epoch: 99 TSE: 15.90902717336253\n"
     ]
    }
   ],
   "source": [
    "''' training '''\n",
    "\n",
    "\n",
    "\n",
    "for epoch in range(n_epoch):\n",
    "    error = 0\n",
    "    # permute the data for SGD\n",
    "    perm_idx = np.random.permutation(m)\n",
    "    X_train = X_train[:,perm_idx]\n",
    "    Y_train = Y_train[:,perm_idx]\n",
    "    for bat in range(n_batches):\n",
    "        x_batch = X_train[:,bat*batch_size:(1+bat)*batch_size]\n",
    "        y_batch = Y_train[:,bat*batch_size:(1+bat)*batch_size]\n",
    "        # forward pass\n",
    "        z1 = np.matmul(W1.T,x_batch) + b1\n",
    "        a1 = sig(z1)\n",
    "        z2 = np.matmul(W2.T,a1) + b2\n",
    "        a2 = sig(z2)\n",
    "        z3 = np.matmul(W3.T,a2) + b3\n",
    "        a3 = sig(z3)\n",
    "        z4 = np.matmul(W4.T,a3) + b4\n",
    "        a4 = sig(z4)\n",
    "        # backward pass\n",
    "        e = y_batch - a4\n",
    "        A4 = sig(z4)*(1-sig(z4))\n",
    "        S4 = - A4*e\n",
    "        A3 = sig(z3)*(1-sig(z3))\n",
    "        S3 = A3*np.matmul(W4,S4)\n",
    "        A2 = sig(z2)*(1-sig(z2))\n",
    "        S2 = A2*np.matmul(W3,S3)\n",
    "        A1 = sig(z1)*(1-sig(z1))\n",
    "        S1 = A1*np.matmul(W2,S2)\n",
    "        # gradient descent\n",
    "        dW4 = np.matmul(a3,S4.T)\n",
    "        db4 = np.sum(S4, axis = 1, keepdims=True)\n",
    "        dW3 = np.matmul(a2,S3.T)\n",
    "        db3 = np.sum(S3, axis = 1, keepdims=True)\n",
    "        dW2 = np.matmul(a1,S2.T)\n",
    "        db2 = np.sum(S2, axis = 1, keepdims=True)\n",
    "        dW1 = np.matmul(x_batch,S1.T)\n",
    "        db1 = np.sum(S1, axis = 1, keepdims=True)\n",
    "        W4 -= lr * dW4\n",
    "        b4 -= lr * db4\n",
    "        W3 -= lr * dW3\n",
    "        b3 -= lr * db3\n",
    "        W2 -= lr * dW2\n",
    "        b2 -= lr * db2\n",
    "        W1 -= lr * dW1\n",
    "        b1 -= lr * db1\n",
    "        # compute the error \n",
    "        error += 0.5*np.sum(e*e)\n",
    "    # report error of the current epoch\n",
    "    print(\"Epoch:\", epoch, \"TSE:\", error)\n",
    "    errors.append(error)\n",
    "        \n",
    "    \n",
    "    "
   ]
  },
  {
   "cell_type": "code",
   "execution_count": 82,
   "id": "ce95af94",
   "metadata": {
    "scrolled": true
   },
   "outputs": [
    {
     "data": {
      "text/plain": [
       "Text(0.5, 1.0, '3 hidden, sigmoid, TSE')"
      ]
     },
     "execution_count": 82,
     "metadata": {},
     "output_type": "execute_result"
    },
    {
     "data": {
      "image/png": "[encoded data removed]",
      "text/plain": [
       "<Figure size 640x480 with 1 Axes>"
      ]
     },
     "metadata": {},
     "output_type": "display_data"
    }
   ],
   "source": [
    "import matplotlib.pyplot as plt\n",
    "\n",
    "plt.plot(errors)\n",
    "plt.xlabel('epoch')\n",
    "plt.ylabel('error')\n",
    "plt.title('3 hidden, sigmoid, TSE')"
   ]
  },
  {
   "cell_type": "code",
   "execution_count": null,
   "id": "d4ee2ee5",
   "metadata": {},
   "outputs": [],
   "source": []
  },
  {
   "cell_type": "code",
   "execution_count": null,
   "id": "909064b0",
   "metadata": {},
   "outputs": [],
   "source": []
  },
  {
   "cell_type": "code",
   "execution_count": null,
   "id": "616a9c11",
   "metadata": {},
   "outputs": [],
   "source": []
  },
  {
   "cell_type": "code",
   "execution_count": null,
   "id": "dd0dadad",
   "metadata": {},
   "outputs": [],
   "source": []
  },
  {
   "cell_type": "markdown",
   "id": "4a30b070",
   "metadata": {},
   "source": [
    "# Test  84%"
   ]
  },
  {
   "cell_type": "code",
   "execution_count": 83,
   "id": "49d17da3",
   "metadata": {},
   "outputs": [
    {
     "data": {
      "image/png": "[encoded data removed]",
      "text/plain": [
       "<Figure size 640x480 with 2 Axes>"
      ]
     },
     "metadata": {},
     "output_type": "display_data"
    }
   ],
   "source": [
    "'''Forward pass the test data '''\n",
    "\n",
    "z1 = np.matmul(W1.T,X_test) + b1\n",
    "a1 = sig(z1)\n",
    "z2 = np.matmul(W2.T,a1) + b2\n",
    "a2 = sig(z2)\n",
    "z3 = np.matmul(W3.T,a2) + b3\n",
    "a3 = sig(z3)\n",
    "z4 = np.matmul(W4.T,a3) + b4\n",
    "a4 = sig(z4)\n",
    "\n",
    "''' turn the output into predictions '''\n",
    "\n",
    "pos = np.argmax(a4, axis =0)\n",
    "y_pred = np.zeros_like(a4)\n",
    "y_pred[pos,range(y_pred.shape[1])] = 1\n",
    "\n",
    "''' compute the confusion matirx '''\n",
    "confusion = np.zeros([10,10])\n",
    "for i in range(10):\n",
    "    for j in range(10):\n",
    "        confusion[i,j] = np.dot(y_pred[i],Y_test[j])\n",
    "\n",
    "import seaborn as sns\n",
    "\n",
    "confusion_int = confusion.astype(int)\n",
    "\n",
    "sns.heatmap(confusion_int, annot = True, fmt='d', cmap='Blues')\n",
    "plt.xlabel('True')\n",
    "plt.ylabel('Predicted')\n",
    "plt.title('Confusion Matrix')\n",
    "plt.show()"
   ]
  },
  {
   "cell_type": "code",
   "execution_count": 84,
   "id": "71c54930",
   "metadata": {},
   "outputs": [
    {
     "data": {
      "text/plain": [
       "0.84"
      ]
     },
     "execution_count": 84,
     "metadata": {},
     "output_type": "execute_result"
    }
   ],
   "source": [
    "np.trace(confusion)/X_test.shape[1]"
   ]
  },
  {
   "cell_type": "code",
   "execution_count": null,
   "id": "a1c666cf",
   "metadata": {},
   "outputs": [],
   "source": []
  },
  {
   "cell_type": "code",
   "execution_count": null,
   "id": "c56f7910",
   "metadata": {},
   "outputs": [],
   "source": []
  }
 ],
 "metadata": {
  "kernelspec": {
   "display_name": "Python 3 (ipykernel)",
   "language": "python",
   "name": "python3"
  },
  "language_info": {
   "codemirror_mode": {
    "name": "ipython",
    "version": 3
   },
   "file_extension": ".py",
   "mimetype": "text/x-python",
   "name": "python",
   "nbconvert_exporter": "python",
   "pygments_lexer": "ipython3",
   "version": "3.10.9"
  }
 },
 "nbformat": 4,
 "nbformat_minor": 5
}
