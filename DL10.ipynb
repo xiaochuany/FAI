{
 "cells": [
  {
   "cell_type": "markdown",
   "id": "64e58573",
   "metadata": {},
   "source": [
    "# CIFAR10\n",
    "\n",
    "## first attempt.   3 hidden, ReLU, XE. same as MNSIT\n",
    "\n"
   ]
  },
  {
   "cell_type": "code",
   "execution_count": 13,
   "id": "26df85ea",
   "metadata": {},
   "outputs": [],
   "source": [
    "import numpy as np\n",
    "import matplotlib.pyplot as plt"
   ]
  },
  {
   "cell_type": "code",
   "execution_count": 14,
   "id": "66aff08a",
   "metadata": {},
   "outputs": [],
   "source": [
    "def unpickle(file):\n",
    "    import pickle\n",
    "    with open(file, 'rb') as fo:\n",
    "        dict = pickle.load(fo, encoding='bytes')\n",
    "    return dict\n",
    "\n",
    "file_names = ['data/cifar10/data_batch_' + str(i) for i in range(1, 6)]\n",
    "data_train = []\n",
    "\n",
    "for file_name in file_names:\n",
    "    data_train.append(unpickle(file_name))\n",
    "       \n",
    "file = 'data/cifar10/test_batch'\n",
    "data_test = unpickle(file)"
   ]
  },
  {
   "cell_type": "code",
   "execution_count": 15,
   "id": "30a5b800",
   "metadata": {},
   "outputs": [],
   "source": [
    "m = data_train[0][b'data'].shape[0]\n",
    "ny = 10"
   ]
  },
  {
   "cell_type": "code",
   "execution_count": 16,
   "id": "e74212c6",
   "metadata": {},
   "outputs": [],
   "source": [
    "'''\n",
    "get the training and test split and one-hot embedding of labels \n",
    "\n",
    "notice that each example is a column\n",
    "'''\n",
    "\n",
    "X_train = data_train[0][b'data'].T/255\n",
    "X_train = np.sum(X_train.reshape(3,1024,-1), axis = 0, keepdims = False)/3\n",
    "\n",
    "\n",
    "Y_train = np.zeros([ny,m])\n",
    "Y_train[data_train[0][b'labels'],range(m)] = 1\n",
    "\n",
    "X_test = data_test[b'data'].T/255\n",
    "X_test = np.sum(X_test.reshape(3,1024,-1), axis = 0, keepdims = False)/3\n",
    "\n",
    "Y_test = np.zeros([ny,m])\n",
    "Y_test[data_test[b'labels'],range(m)]=1\n",
    "\n",
    "nx = X_train.shape[0]\n",
    "\n"
   ]
  },
  {
   "cell_type": "code",
   "execution_count": 22,
   "id": "8c99d6f0",
   "metadata": {},
   "outputs": [
    {
     "data": {
      "image/png": "[encoded data removed]",
      "text/plain": [
       "<Figure size 432x288 with 1 Axes>"
      ]
     },
     "metadata": {
      "needs_background": "light"
     },
     "output_type": "display_data"
    }
   ],
   "source": [
    "image = X_train[:,11]\n",
    "image_res = image.reshape(32,32)\n",
    "image_res = image_res #transpose()\n",
    "\n",
    "plt.imshow(image_res, cmap = 'gray')\n",
    "plt.axis('off')  # Hide axes\n",
    "plt.show()\n"
   ]
  },
  {
   "cell_type": "code",
   "execution_count": 6,
   "id": "2aad962b",
   "metadata": {},
   "outputs": [],
   "source": [
    "'''define mini-batches and set up the number of hidden nodes'''\n",
    "\n",
    "nh1,nh2,nh3 = 200,200,200"
   ]
  },
  {
   "cell_type": "code",
   "execution_count": 7,
   "id": "8dc0c773",
   "metadata": {},
   "outputs": [],
   "source": [
    "'''initialise weights and biases for three layer feed forward fully connected neural network'''\n",
    "\n",
    "rng = np.random.default_rng()\n",
    "W1 = (1/nx**0.5)*rng.normal(0,1,[nx,nh1])\n",
    "b1 = np.zeros([nh1,1])\n",
    "W2 = (1/nh1**0.5)*rng.normal(0,1,[nh1,nh2])\n",
    "b2 = np.zeros([nh2,1])\n",
    "W3 = (1/nh2**0.5)*rng.normal(0,1,[nh2,nh3])\n",
    "b3 = np.zeros([nh3,1])\n",
    "W4 = (1/nh3**0.5)*rng.normal(0,1,[nh3,ny])\n",
    "b4 = np.zeros([ny,1])"
   ]
  },
  {
   "cell_type": "code",
   "execution_count": 8,
   "id": "64c1c16e",
   "metadata": {},
   "outputs": [],
   "source": [
    "''' define a few helper functions and hyperparameters '''\n",
    "def sig(x):\n",
    "    return 1/(1+np.exp(-x))\n",
    "\n",
    "def relu(x):\n",
    "    return np.maximum(0,x)\n",
    "\n",
    "def drelu(x):\n",
    "    index = np.where(x>0)\n",
    "    y = np.zeros_like(x)\n",
    "    y[index] = 1\n",
    "    return y\n",
    "\n",
    "def softmax(x):\n",
    "    return np.exp(x)/np.sum(np.exp(x), axis = 0, keepdims = True)\n",
    "\n",
    "\n",
    "errors =[]"
   ]
  },
  {
   "cell_type": "code",
   "execution_count": 13,
   "id": "9616b989",
   "metadata": {},
   "outputs": [
    {
     "name": "stdout",
     "output_type": "stream",
     "text": [
      "Epoch: 0 XE: 20458.78293797444\n",
      "Epoch: 1 XE: 20450.78811762279\n",
      "Epoch: 2 XE: 20438.38077438918\n",
      "Epoch: 3 XE: 20425.658851457658\n",
      "Epoch: 4 XE: 20415.35086405429\n",
      "Epoch: 5 XE: 20406.21248796666\n",
      "Epoch: 6 XE: 20395.796436820012\n",
      "Epoch: 7 XE: 20386.93475194104\n",
      "Epoch: 8 XE: 20375.844977081597\n",
      "Epoch: 9 XE: 20366.122402359102\n",
      "Epoch: 10 XE: 20357.543984369357\n",
      "Epoch: 11 XE: 20346.49950671065\n",
      "Epoch: 12 XE: 20337.848705485074\n",
      "Epoch: 13 XE: 20329.993073325622\n",
      "Epoch: 14 XE: 20321.568647311466\n",
      "Epoch: 15 XE: 20311.42684933569\n",
      "Epoch: 16 XE: 20301.39007279716\n",
      "Epoch: 17 XE: 20293.582066753064\n",
      "Epoch: 18 XE: 20285.831310582922\n",
      "Epoch: 19 XE: 20275.892962115857\n",
      "Epoch: 20 XE: 20267.491781998127\n",
      "Epoch: 21 XE: 20260.00251534856\n",
      "Epoch: 22 XE: 20251.303463856108\n",
      "Epoch: 23 XE: 20244.78173973761\n",
      "Epoch: 24 XE: 20236.250602346357\n",
      "Epoch: 25 XE: 20225.107485343244\n",
      "Epoch: 26 XE: 20219.00887486828\n",
      "Epoch: 27 XE: 20209.68067202875\n",
      "Epoch: 28 XE: 20203.64106642392\n",
      "Epoch: 29 XE: 20197.42212602202\n",
      "Epoch: 30 XE: 20186.967032537184\n",
      "Epoch: 31 XE: 20181.552178284208\n",
      "Epoch: 32 XE: 20175.22407080349\n",
      "Epoch: 33 XE: 20166.68152830375\n",
      "Epoch: 34 XE: 20160.688503708898\n",
      "Epoch: 35 XE: 20155.49550993067\n",
      "Epoch: 36 XE: 20148.810219818348\n",
      "Epoch: 37 XE: 20142.2061670578\n",
      "Epoch: 38 XE: 20130.673251479708\n",
      "Epoch: 39 XE: 20127.055538894\n",
      "Epoch: 40 XE: 20118.85091739541\n",
      "Epoch: 41 XE: 20112.825443488306\n",
      "Epoch: 42 XE: 20105.398751934157\n",
      "Epoch: 43 XE: 20096.915408961293\n",
      "Epoch: 44 XE: 20093.559912441993\n",
      "Epoch: 45 XE: 20084.992176171356\n",
      "Epoch: 46 XE: 20078.969023605652\n",
      "Epoch: 47 XE: 20075.110301919853\n",
      "Epoch: 48 XE: 20070.17487224573\n",
      "Epoch: 49 XE: 20064.27202238901\n",
      "Epoch: 50 XE: 20058.316485673244\n",
      "Epoch: 51 XE: 20054.691549483603\n",
      "Epoch: 52 XE: 20049.09135004022\n",
      "Epoch: 53 XE: 20040.420633091235\n",
      "Epoch: 54 XE: 20037.753840633384\n",
      "Epoch: 55 XE: 20030.58203063537\n",
      "Epoch: 56 XE: 20025.043358169816\n",
      "Epoch: 57 XE: 20025.82128150218\n",
      "Epoch: 58 XE: 20016.953050926168\n",
      "Epoch: 59 XE: 20012.326792924072\n",
      "Epoch: 60 XE: 20009.59453592602\n",
      "Epoch: 61 XE: 19999.385105484413\n",
      "Epoch: 62 XE: 19995.372135627906\n",
      "Epoch: 63 XE: 19988.932101116316\n",
      "Epoch: 64 XE: 19984.3529341985\n",
      "Epoch: 65 XE: 19978.523000056823\n",
      "Epoch: 66 XE: 19970.88549827951\n",
      "Epoch: 67 XE: 19968.097899759963\n",
      "Epoch: 68 XE: 19960.734212064854\n",
      "Epoch: 69 XE: 19953.366649418604\n",
      "Epoch: 70 XE: 19949.19931104035\n",
      "Epoch: 71 XE: 19942.41823972322\n",
      "Epoch: 72 XE: 19936.37909822794\n",
      "Epoch: 73 XE: 19930.394407006832\n",
      "Epoch: 74 XE: 19925.107246976848\n",
      "Epoch: 75 XE: 19919.10932734661\n",
      "Epoch: 76 XE: 19911.956488677894\n",
      "Epoch: 77 XE: 19910.796056957326\n",
      "Epoch: 78 XE: 19900.03085671313\n",
      "Epoch: 79 XE: 19892.509372581695\n",
      "Epoch: 80 XE: 19889.510876723954\n",
      "Epoch: 81 XE: 19883.333041304082\n",
      "Epoch: 82 XE: 19876.455655292546\n",
      "Epoch: 83 XE: 19871.072644854292\n",
      "Epoch: 84 XE: 19867.869979847146\n",
      "Epoch: 85 XE: 19860.598187058964\n",
      "Epoch: 86 XE: 19854.176671715835\n",
      "Epoch: 87 XE: 19846.567353185532\n",
      "Epoch: 88 XE: 19840.91658548785\n",
      "Epoch: 89 XE: 19839.08351798663\n",
      "Epoch: 90 XE: 19827.23071863067\n",
      "Epoch: 91 XE: 19823.60122774107\n",
      "Epoch: 92 XE: 19818.661107354874\n",
      "Epoch: 93 XE: 19812.754352564138\n",
      "Epoch: 94 XE: 19805.811656303016\n",
      "Epoch: 95 XE: 19804.38407251382\n",
      "Epoch: 96 XE: 19797.030311379254\n",
      "Epoch: 97 XE: 19789.086105886206\n",
      "Epoch: 98 XE: 19785.70163246378\n",
      "Epoch: 99 XE: 19779.802812206755\n"
     ]
    }
   ],
   "source": [
    "''' training '''\n",
    "\n",
    "batch_size = 200\n",
    "n_batches = int(m/batch_size)\n",
    "lr=0.00001\n",
    "n_epoch = 100\n",
    "\n",
    "for epoch in range(n_epoch):\n",
    "    # permute the data for SGD\n",
    "    perm_idx = np.random.permutation(m)\n",
    "    X_train = X_train[:,perm_idx]\n",
    "    Y_train = Y_train[:,perm_idx]\n",
    "    # initialise error of the current epoch\n",
    "    error = 0\n",
    "    for bat in range(n_batches):\n",
    "        x_batch = X_train[:,bat*batch_size:(1+bat)*batch_size]\n",
    "        y_batch = Y_train[:,bat*batch_size:(1+bat)*batch_size]\n",
    "        # forward pass\n",
    "        z1 = np.matmul(W1.T,x_batch) + b1\n",
    "        a1 = relu(z1)\n",
    "        z2 = np.matmul(W2.T,a1) + b2\n",
    "        a2 = relu(z2)\n",
    "        z3 = np.matmul(W3.T,a2) + b3\n",
    "        a3 = relu(z3)\n",
    "        z4 = np.matmul(W4.T,a3) + b4\n",
    "        a4 = softmax(z4)   \n",
    "        # backward pass\n",
    "        e = y_batch - a4    \n",
    "        S4 = - e\n",
    "        A3 = drelu(z3) \n",
    "        S3 = A3*np.matmul(W4,S4)\n",
    "        A2 = drelu(z2)\n",
    "        S2 = A2*np.matmul(W3,S3)\n",
    "        A1 = drelu(z2)\n",
    "        S1 = A1*np.matmul(W2,S2)\n",
    "        # gradient descent\n",
    "        dW4 = np.matmul(a3,S4.T)\n",
    "        db4 = np.sum(S4, axis = 1, keepdims=True)\n",
    "        dW3 = np.matmul(a2,S3.T)\n",
    "        db3 = np.sum(S3, axis = 1, keepdims=True)\n",
    "        dW2 = np.matmul(a1,S2.T)\n",
    "        db2 = np.sum(S2, axis = 1, keepdims=True)\n",
    "        dW1 = np.matmul(x_batch,S1.T)\n",
    "        db1 = np.sum(S1, axis = 1, keepdims=True)\n",
    "        W4 -= lr * dW4\n",
    "        b4 -= lr * db4\n",
    "        W3 -= lr * dW3\n",
    "        b3 -= lr * db3\n",
    "        W2 -= lr * dW2\n",
    "        b2 -= lr * db2\n",
    "        W1 -= lr * dW1\n",
    "        b1 -= lr * db1\n",
    "        # accumulate the error across all batches \n",
    "        prob = a4[y_batch*a4 !=0]\n",
    "        error += np.sum(-np.log(prob+0.00000001))\n",
    "    # report error of the current epoch\n",
    "    print(\"Epoch:\", epoch, \"XE:\", error)\n",
    "    errors.append(error)\n",
    "        \n",
    "    \n",
    "    "
   ]
  },
  {
   "cell_type": "code",
   "execution_count": 14,
   "id": "ce95af94",
   "metadata": {
    "scrolled": true
   },
   "outputs": [
    {
     "data": {
      "text/plain": [
       "Text(0.5, 1.0, '3 hidden, ReLU, XE')"
      ]
     },
     "execution_count": 14,
     "metadata": {},
     "output_type": "execute_result"
    },
    {
     "data": {
      "image/png": "[encoded data removed]",
      "text/plain": [
       "<Figure size 432x288 with 1 Axes>"
      ]
     },
     "metadata": {
      "needs_background": "light"
     },
     "output_type": "display_data"
    }
   ],
   "source": [
    "import matplotlib.pyplot as plt\n",
    "\n",
    "plt.plot(errors)\n",
    "plt.xlabel('epoch')\n",
    "plt.ylabel('error')\n",
    "plt.title('3 hidden, ReLU, XE')"
   ]
  },
  {
   "cell_type": "code",
   "execution_count": null,
   "id": "a0758125",
   "metadata": {},
   "outputs": [],
   "source": []
  },
  {
   "cell_type": "code",
   "execution_count": null,
   "id": "354782b0",
   "metadata": {},
   "outputs": [],
   "source": []
  },
  {
   "cell_type": "code",
   "execution_count": null,
   "id": "a7c131ee",
   "metadata": {},
   "outputs": [],
   "source": []
  },
  {
   "cell_type": "code",
   "execution_count": null,
   "id": "687961e2",
   "metadata": {},
   "outputs": [],
   "source": []
  },
  {
   "cell_type": "code",
   "execution_count": null,
   "id": "ef41ff24",
   "metadata": {},
   "outputs": [],
   "source": []
  },
  {
   "cell_type": "code",
   "execution_count": null,
   "id": "d4ef65fd",
   "metadata": {},
   "outputs": [],
   "source": []
  },
  {
   "cell_type": "markdown",
   "id": "8e7d44fc",
   "metadata": {},
   "source": [
    "##  Test  37% "
   ]
  },
  {
   "cell_type": "code",
   "execution_count": 11,
   "id": "ca6c6b04",
   "metadata": {},
   "outputs": [
    {
     "ename": "NameError",
     "evalue": "name 'W1' is not defined",
     "output_type": "error",
     "traceback": [
      "\u001b[1;31m---------------------------------------------------------------------------\u001b[0m",
      "\u001b[1;31mNameError\u001b[0m                                 Traceback (most recent call last)",
      "Cell \u001b[1;32mIn[11], line 3\u001b[0m\n\u001b[0;32m      1\u001b[0m \u001b[38;5;124;03m'''Forward pass the test data '''\u001b[39;00m\n\u001b[1;32m----> 3\u001b[0m z1 \u001b[38;5;241m=\u001b[39m np\u001b[38;5;241m.\u001b[39mmatmul(W1\u001b[38;5;241m.\u001b[39mT,X_test) \u001b[38;5;241m+\u001b[39m b1\n\u001b[0;32m      4\u001b[0m a1 \u001b[38;5;241m=\u001b[39m relu(z1)\n\u001b[0;32m      5\u001b[0m z2 \u001b[38;5;241m=\u001b[39m np\u001b[38;5;241m.\u001b[39mmatmul(W2\u001b[38;5;241m.\u001b[39mT,a1) \u001b[38;5;241m+\u001b[39m b2\n",
      "\u001b[1;31mNameError\u001b[0m: name 'W1' is not defined"
     ]
    }
   ],
   "source": [
    "'''Forward pass the test data '''\n",
    "\n",
    "z1 = np.matmul(W1.T,X_test) + b1\n",
    "a1 = relu(z1)\n",
    "z2 = np.matmul(W2.T,a1) + b2\n",
    "a2 = relu(z2)\n",
    "z3 = np.matmul(W3.T,a2) + b3\n",
    "a3 = relu(z3)\n",
    "z4 = np.matmul(W4.T,a3) + b4\n",
    "a4 = softmax(z4)\n",
    "\n",
    "''' turn the output into predictions '''\n",
    "\n",
    "pos = np.argmax(a4, axis =0)\n",
    "y_pred = np.zeros_like(a4)\n",
    "y_pred[pos,range(y_pred.shape[1])] = 1\n",
    "\n",
    "''' compute the confusion matirx '''\n",
    "confusion = np.zeros([10,10])\n",
    "for i in range(10):\n",
    "    for j in range(10):\n",
    "        confusion[i,j] = np.dot(y_pred[i],Y_test[j])\n",
    "\n",
    "import seaborn as sns\n",
    "\n",
    "confusion_int = confusion.astype(int)\n",
    "\n",
    "sns.heatmap(confusion_int, annot = True, fmt='d', cmap='Grays')\n",
    "plt.xlabel('True')\n",
    "plt.ylabel('Predicted')\n",
    "plt.title('Confusion Matrix')\n",
    "plt.show()"
   ]
  },
  {
   "cell_type": "code",
   "execution_count": 16,
   "id": "f169ffde",
   "metadata": {},
   "outputs": [
    {
     "data": {
      "text/plain": [
       "0.2921"
      ]
     },
     "execution_count": 16,
     "metadata": {},
     "output_type": "execute_result"
    }
   ],
   "source": [
    "np.trace(confusion)/10000"
   ]
  },
  {
   "cell_type": "code",
   "execution_count": null,
   "id": "4f5eae31",
   "metadata": {},
   "outputs": [],
   "source": []
  }
 ],
 "metadata": {
  "kernelspec": {
   "display_name": "Python 3 (ipykernel)",
   "language": "python",
   "name": "python3"
  },
  "language_info": {
   "codemirror_mode": {
    "name": "ipython",
    "version": 3
   },
   "file_extension": ".py",
   "mimetype": "text/x-python",
   "name": "python",
   "nbconvert_exporter": "python",
   "pygments_lexer": "ipython3",
   "version": "3.10.9"
  }
 },
 "nbformat": 4,
 "nbformat_minor": 5
}
