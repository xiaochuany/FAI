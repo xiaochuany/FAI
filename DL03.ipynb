{
 "cells": [
  {
   "cell_type": "markdown",
   "id": "64e58573",
   "metadata": {},
   "source": [
    "### three hidden layers, sigmoid, XE\n"
   ]
  },
  {
   "cell_type": "code",
   "execution_count": 41,
   "id": "9da8a67c",
   "metadata": {},
   "outputs": [],
   "source": [
    "import numpy as np\n",
    "\n",
    "'''read the data'''\n",
    "\n",
    "# Specify the path to the CSV file\n",
    "path_train = 'data/MNIST_train_1000.csv'\n",
    "path_test = 'data/MNIST_test_100.csv'\n",
    "\n",
    "\n",
    "data_train = np.genfromtxt(path_train, delimiter=',', skip_header=0, dtype=int)\n",
    "data_test = np.genfromtxt(path_test, delimiter=',', skip_header=0, dtype=int)"
   ]
  },
  {
   "cell_type": "code",
   "execution_count": 42,
   "id": "de280058",
   "metadata": {},
   "outputs": [],
   "source": [
    "m,m1 = data_train.shape[0], data_test.shape[0]\n",
    "ny = 10"
   ]
  },
  {
   "cell_type": "code",
   "execution_count": 43,
   "id": "e74212c6",
   "metadata": {},
   "outputs": [],
   "source": [
    "'''\n",
    "get the training and test split and one-hot embedding of labels \n",
    "\n",
    "notice that each example is a column\n",
    "'''\n",
    "\n",
    "X_train = data_train[:,1:].T/255\n",
    "\n",
    "Y_train = np.zeros([ny,m])\n",
    "Y_train[data_train[:,0],range(m)]=1\n",
    "\n",
    "\n",
    "X_test = data_test[:,1:].T/255\n",
    "\n",
    "Y_test = np.zeros([ny,m1])\n",
    "Y_test[data_test[:,0],range(m1)]=1\n",
    "\n",
    "nx = X_train.shape[0]"
   ]
  },
  {
   "cell_type": "code",
   "execution_count": 44,
   "id": "2aad962b",
   "metadata": {},
   "outputs": [],
   "source": [
    "'''define mini-batches and set up the number of hidden nodes'''\n",
    "\n",
    "batch_size = 20\n",
    "nh1,nh2,nh3 = 100,100,100"
   ]
  },
  {
   "cell_type": "code",
   "execution_count": 45,
   "id": "8dc0c773",
   "metadata": {},
   "outputs": [],
   "source": [
    "'''initialise weights and biases for three layer feed forward fully connected neural network'''\n",
    "\n",
    "rng = np.random.default_rng()\n",
    "W1 = (1/nx**0.5)*rng.normal(0,1,[nx,nh1])\n",
    "b1 = np.zeros([nh1,1])\n",
    "W2 = (1/nh1**0.5)*rng.normal(0,1,[nh1,nh2])\n",
    "b2 = np.zeros([nh2,1])\n",
    "W3 = (1/nh2**0.5)*rng.normal(0,1,[nh2,nh3])\n",
    "b3 = np.zeros([nh3,1])\n",
    "W4 = (1/nh3**0.5)*rng.normal(0,1,[nh3,ny])\n",
    "b4 = np.zeros([ny,1])"
   ]
  },
  {
   "cell_type": "code",
   "execution_count": 46,
   "id": "64c1c16e",
   "metadata": {},
   "outputs": [],
   "source": [
    "''' define a few helper functions and hyperparameters '''\n",
    "def sig(x):\n",
    "    return 1/(1+np.exp(-x))\n",
    "\n",
    "def softmax(x):\n",
    "    return np.exp(x)/np.sum(np.exp(x), axis = 0, keepdims = True)\n",
    "\n",
    "n_batches = int(m/batch_size)\n",
    "#lr = 0.0001\n",
    "n_epoch = 100\n",
    "\n",
    "errors =[]"
   ]
  },
  {
   "cell_type": "code",
   "execution_count": 47,
   "id": "9616b989",
   "metadata": {},
   "outputs": [
    {
     "name": "stdout",
     "output_type": "stream",
     "text": [
      "Epoch: 0 XE: 2457.120405762461\n",
      "Epoch: 1 XE: 2323.1948338325365\n",
      "Epoch: 2 XE: 2320.36419430923\n",
      "Epoch: 3 XE: 2315.4004168467964\n",
      "Epoch: 4 XE: 2312.9448943725997\n",
      "Epoch: 5 XE: 2305.7841992829517\n",
      "Epoch: 6 XE: 2222.7969967652107\n",
      "Epoch: 7 XE: 1979.0709218449006\n",
      "Epoch: 8 XE: 1808.983991259672\n",
      "Epoch: 9 XE: 1522.3627908183762\n",
      "Epoch: 10 XE: 1222.6163211561873\n",
      "Epoch: 11 XE: 1031.8373047539762\n",
      "Epoch: 12 XE: 870.706498417637\n",
      "Epoch: 13 XE: 757.3911859660014\n",
      "Epoch: 14 XE: 581.4594321081562\n",
      "Epoch: 15 XE: 493.29895904690363\n",
      "Epoch: 16 XE: 432.6216524157057\n",
      "Epoch: 17 XE: 330.8925817791335\n",
      "Epoch: 18 XE: 304.60874347619574\n",
      "Epoch: 19 XE: 249.06065733803194\n",
      "Epoch: 20 XE: 218.56847992978697\n",
      "Epoch: 21 XE: 142.48366927351594\n",
      "Epoch: 22 XE: 108.5573551455191\n",
      "Epoch: 23 XE: 88.90455101344592\n",
      "Epoch: 24 XE: 60.90799052654698\n",
      "Epoch: 25 XE: 53.51541210828309\n",
      "Epoch: 26 XE: 36.867769106119724\n",
      "Epoch: 27 XE: 26.86609793113798\n",
      "Epoch: 28 XE: 20.2394953233427\n",
      "Epoch: 29 XE: 15.443183320467467\n",
      "Epoch: 30 XE: 11.9380763237489\n",
      "Epoch: 31 XE: 10.27650086009293\n",
      "Epoch: 32 XE: 8.9988769803832\n",
      "Epoch: 33 XE: 7.925184525776747\n",
      "Epoch: 34 XE: 7.084509944264338\n",
      "Epoch: 35 XE: 6.585754357932102\n",
      "Epoch: 36 XE: 5.942373146558762\n",
      "Epoch: 37 XE: 5.526854413960974\n",
      "Epoch: 38 XE: 5.1120375706499965\n",
      "Epoch: 39 XE: 4.7812645075625095\n",
      "Epoch: 40 XE: 4.474875944544671\n",
      "Epoch: 41 XE: 4.220384591184661\n",
      "Epoch: 42 XE: 3.9688293268143213\n",
      "Epoch: 43 XE: 3.7404421446429605\n",
      "Epoch: 44 XE: 3.572177406496278\n",
      "Epoch: 45 XE: 3.38721745869593\n",
      "Epoch: 46 XE: 3.2129756030982164\n",
      "Epoch: 47 XE: 3.0799518058594746\n",
      "Epoch: 48 XE: 2.9433082535552604\n",
      "Epoch: 49 XE: 2.8300588148516503\n",
      "Epoch: 50 XE: 2.7165749834264785\n",
      "Epoch: 51 XE: 2.596769309757479\n",
      "Epoch: 52 XE: 2.4976259972747514\n",
      "Epoch: 53 XE: 2.410253193757051\n",
      "Epoch: 54 XE: 2.322072399900961\n",
      "Epoch: 55 XE: 2.2539303150402206\n",
      "Epoch: 56 XE: 2.172868956991173\n",
      "Epoch: 57 XE: 2.1017046815142604\n",
      "Epoch: 58 XE: 2.03358405060796\n",
      "Epoch: 59 XE: 1.97518164133351\n",
      "Epoch: 60 XE: 1.9134413824501957\n",
      "Epoch: 61 XE: 1.8596116798380287\n",
      "Epoch: 62 XE: 1.8017201787733703\n",
      "Epoch: 63 XE: 1.7565106386031666\n",
      "Epoch: 64 XE: 1.7097329330864675\n",
      "Epoch: 65 XE: 1.667112489136235\n",
      "Epoch: 66 XE: 1.6231030789806349\n",
      "Epoch: 67 XE: 1.5798189737605894\n",
      "Epoch: 68 XE: 1.5389325275291956\n",
      "Epoch: 69 XE: 1.50725177937124\n",
      "Epoch: 70 XE: 1.4678545718626188\n",
      "Epoch: 71 XE: 1.4384784051172177\n",
      "Epoch: 72 XE: 1.4028664217457856\n",
      "Epoch: 73 XE: 1.3728570374704179\n",
      "Epoch: 74 XE: 1.3414621175357204\n",
      "Epoch: 75 XE: 1.313876282577845\n",
      "Epoch: 76 XE: 1.2873012841632518\n",
      "Epoch: 77 XE: 1.2600470208516192\n",
      "Epoch: 78 XE: 1.235093659240234\n",
      "Epoch: 79 XE: 1.2115222740811726\n",
      "Epoch: 80 XE: 1.1873155408234761\n",
      "Epoch: 81 XE: 1.1634715862241067\n",
      "Epoch: 82 XE: 1.1415038953816432\n",
      "Epoch: 83 XE: 1.118584941301346\n",
      "Epoch: 84 XE: 1.100314579889234\n",
      "Epoch: 85 XE: 1.0813675858099965\n",
      "Epoch: 86 XE: 1.0599424401474422\n",
      "Epoch: 87 XE: 1.0432527529065334\n",
      "Epoch: 88 XE: 1.0255345809521885\n",
      "Epoch: 89 XE: 1.0077823526985363\n",
      "Epoch: 90 XE: 0.9911440751683981\n",
      "Epoch: 91 XE: 0.973966942353334\n",
      "Epoch: 92 XE: 0.9596368635469635\n",
      "Epoch: 93 XE: 0.9442245357129674\n",
      "Epoch: 94 XE: 0.9298233091897873\n",
      "Epoch: 95 XE: 0.9153248837088745\n",
      "Epoch: 96 XE: 0.9013318417580072\n",
      "Epoch: 97 XE: 0.8863177512868022\n",
      "Epoch: 98 XE: 0.8740309097763964\n",
      "Epoch: 99 XE: 0.8611901615036579\n"
     ]
    }
   ],
   "source": [
    "''' training '''\n",
    "\n",
    "lr=0.05\n",
    "\n",
    "for epoch in range(n_epoch):\n",
    "    # permute the data for SGD\n",
    "    perm_idx = np.random.permutation(m)\n",
    "    X_train = X_train[:,perm_idx]\n",
    "    Y_train = Y_train[:,perm_idx]\n",
    "    # keep track of errors of each epoch\n",
    "    error = 0\n",
    "    for bat in range(n_batches):\n",
    "        x_batch = X_train[:,bat*batch_size:(1+bat)*batch_size]\n",
    "        y_batch = Y_train[:,bat*batch_size:(1+bat)*batch_size]\n",
    "        # forward pass\n",
    "        z1 = np.matmul(W1.T,x_batch) + b1\n",
    "        a1 = sig(z1)\n",
    "        z2 = np.matmul(W2.T,a1) + b2\n",
    "        a2 = sig(z2)\n",
    "        z3 = np.matmul(W3.T,a2) + b3\n",
    "        a3 = sig(z3)\n",
    "        z4 = np.matmul(W4.T,a3) + b4\n",
    "        a4 = softmax(z4)   #a4 = sig(z4)\n",
    "        # backward pass\n",
    "        e = y_batch - a4    \n",
    "        #A4 = sig(z4)*(1-sig(z4))\n",
    "        S4 = - e\n",
    "        A3 = sig(z3)*(1-sig(z3))\n",
    "        S3 = A3*np.matmul(W4,S4)\n",
    "        A2 = sig(z2)*(1-sig(z2))\n",
    "        S2 = A2*np.matmul(W3,S3)\n",
    "        A1 = sig(z1)*(1-sig(z1))\n",
    "        S1 = A1*np.matmul(W2,S2)\n",
    "        # gradient descent\n",
    "        dW4 = np.matmul(a3,S4.T)\n",
    "        db4 = np.sum(S4, axis = 1, keepdims=True)\n",
    "        dW3 = np.matmul(a2,S3.T)\n",
    "        db3 = np.sum(S3, axis = 1, keepdims=True)\n",
    "        dW2 = np.matmul(a1,S2.T)\n",
    "        db2 = np.sum(S2, axis = 1, keepdims=True)\n",
    "        dW1 = np.matmul(x_batch,S1.T)\n",
    "        db1 = np.sum(S1, axis = 1, keepdims=True)\n",
    "        W4 -= lr * dW4\n",
    "        b4 -= lr * db4\n",
    "        W3 -= lr * dW3\n",
    "        b3 -= lr * db3\n",
    "        W2 -= lr * dW2\n",
    "        b2 -= lr * db2\n",
    "        W1 -= lr * dW1\n",
    "        b1 -= lr * db1\n",
    "        # compute the error \n",
    "        prob = a4[y_batch*a4 !=0]\n",
    "        error += np.sum(-np.log(prob+0.00000001))\n",
    "        #print(\"accumulated error:\", error)\n",
    "    print(\"Epoch:\", epoch, \"XE:\", error)\n",
    "    errors.append(error)\n",
    "        \n",
    "    \n",
    "    "
   ]
  },
  {
   "cell_type": "code",
   "execution_count": 48,
   "id": "ce95af94",
   "metadata": {
    "scrolled": true
   },
   "outputs": [
    {
     "data": {
      "text/plain": [
       "Text(0.5, 1.0, '3 hidden, Sigmoid, XE')"
      ]
     },
     "execution_count": 48,
     "metadata": {},
     "output_type": "execute_result"
    },
    {
     "data": {
      "image/png": "[encoded data removed]",
      "text/plain": [
       "<Figure size 640x480 with 1 Axes>"
      ]
     },
     "metadata": {},
     "output_type": "display_data"
    }
   ],
   "source": [
    "import matplotlib.pyplot as plt\n",
    "\n",
    "plt.plot(errors)\n",
    "plt.xlabel('epoch')\n",
    "plt.ylabel('error')\n",
    "plt.title('3 hidden, Sigmoid, XE')"
   ]
  },
  {
   "cell_type": "code",
   "execution_count": null,
   "id": "a0758125",
   "metadata": {},
   "outputs": [],
   "source": []
  },
  {
   "cell_type": "code",
   "execution_count": null,
   "id": "65942026",
   "metadata": {},
   "outputs": [],
   "source": []
  },
  {
   "cell_type": "code",
   "execution_count": null,
   "id": "11c5f08f",
   "metadata": {},
   "outputs": [],
   "source": []
  },
  {
   "cell_type": "code",
   "execution_count": null,
   "id": "9b8c9247",
   "metadata": {},
   "outputs": [],
   "source": []
  },
  {
   "cell_type": "code",
   "execution_count": null,
   "id": "abde714a",
   "metadata": {},
   "outputs": [],
   "source": []
  },
  {
   "cell_type": "code",
   "execution_count": null,
   "id": "588d1890",
   "metadata": {},
   "outputs": [],
   "source": []
  },
  {
   "cell_type": "markdown",
   "id": "7e52846b",
   "metadata": {},
   "source": [
    "# Test   83%"
   ]
  },
  {
   "cell_type": "code",
   "execution_count": 49,
   "id": "d4ea20e4",
   "metadata": {},
   "outputs": [
    {
     "data": {
      "image/png": "[encoded data removed]",
      "text/plain": [
       "<Figure size 640x480 with 2 Axes>"
      ]
     },
     "metadata": {},
     "output_type": "display_data"
    }
   ],
   "source": [
    "'''Forward pass the test data '''\n",
    "\n",
    "z1 = np.matmul(W1.T,X_test) + b1\n",
    "a1 = sig(z1)\n",
    "z2 = np.matmul(W2.T,a1) + b2\n",
    "a2 = sig(z2)\n",
    "z3 = np.matmul(W3.T,a2) + b3\n",
    "a3 = sig(z3)\n",
    "z4 = np.matmul(W4.T,a3) + b4\n",
    "a4 = softmax(z4)\n",
    "\n",
    "''' turn the output into predictions '''\n",
    "\n",
    "pos = np.argmax(a4, axis =0)\n",
    "y_pred = np.zeros_like(a4)\n",
    "y_pred[pos,range(y_pred.shape[1])] = 1\n",
    "\n",
    "''' compute the confusion matirx '''\n",
    "confusion = np.zeros([10,10])\n",
    "for i in range(10):\n",
    "    for j in range(10):\n",
    "        confusion[i,j] = np.dot(y_pred[i],Y_test[j])\n",
    "\n",
    "import seaborn as sns\n",
    "\n",
    "confusion_int = confusion.astype(int)\n",
    "\n",
    "sns.heatmap(confusion_int, annot = True, fmt='d', cmap='Blues')\n",
    "plt.xlabel('True')\n",
    "plt.ylabel('Predicted')\n",
    "plt.title('Confusion Matrix')\n",
    "plt.show()"
   ]
  },
  {
   "cell_type": "code",
   "execution_count": 50,
   "id": "5393faa7",
   "metadata": {},
   "outputs": [
    {
     "data": {
      "text/plain": [
       "0.86"
      ]
     },
     "execution_count": 50,
     "metadata": {},
     "output_type": "execute_result"
    }
   ],
   "source": [
    "np.trace(confusion)/X_test.shape[1]"
   ]
  },
  {
   "cell_type": "code",
   "execution_count": null,
   "id": "d6927222",
   "metadata": {},
   "outputs": [],
   "source": []
  }
 ],
 "metadata": {
  "kernelspec": {
   "display_name": "Python 3 (ipykernel)",
   "language": "python",
   "name": "python3"
  },
  "language_info": {
   "codemirror_mode": {
    "name": "ipython",
    "version": 3
   },
   "file_extension": ".py",
   "mimetype": "text/x-python",
   "name": "python",
   "nbconvert_exporter": "python",
   "pygments_lexer": "ipython3",
   "version": "3.10.9"
  }
 },
 "nbformat": 4,
 "nbformat_minor": 5
}
