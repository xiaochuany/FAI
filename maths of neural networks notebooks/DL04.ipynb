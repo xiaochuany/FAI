{
 "cells": [
  {
   "cell_type": "markdown",
   "id": "d724bedf",
   "metadata": {},
   "source": [
    "## one hidden layer, relu, squared loss"
   ]
  },
  {
   "cell_type": "code",
   "execution_count": 61,
   "id": "de280058",
   "metadata": {},
   "outputs": [],
   "source": [
    "import numpy as np\n",
    "\n",
    "'''read the data'''\n",
    "\n",
    "# Specify the path to the CSV file\n",
    "path_train = 'data/MNIST_train_1000.csv'\n",
    "path_test = 'data/MNIST_test_100.csv'\n",
    "\n",
    "\n",
    "data_train = np.genfromtxt(path_train, delimiter=',', skip_header=0, dtype=int)\n",
    "data_test = np.genfromtxt(path_test, delimiter=',', skip_header=0, dtype=int)\n",
    "\n",
    "m,m1 = data_train.shape[0], data_test.shape[0]\n",
    "ny = 10"
   ]
  },
  {
   "cell_type": "code",
   "execution_count": 62,
   "id": "e74212c6",
   "metadata": {},
   "outputs": [],
   "source": [
    "'''\n",
    "get the training and test split and one-hot embedding of labels \n",
    "\n",
    "notice that each example is a column\n",
    "'''\n",
    "\n",
    "X_train = data_train[:,1:].T/255\n",
    "\n",
    "Y_train = np.zeros([ny,m])\n",
    "Y_train[data_train[:,0],range(m)]=1\n",
    "\n",
    "\n",
    "X_test = data_test[:,1:].T/255\n",
    "\n",
    "Y_test = np.zeros([ny,m1])\n",
    "Y_test[data_test[:,0],range(m1)]=1\n",
    "\n",
    "nx = X_train.shape[0]"
   ]
  },
  {
   "cell_type": "code",
   "execution_count": 63,
   "id": "2aad962b",
   "metadata": {},
   "outputs": [],
   "source": [
    "'''define mini-batches and set up the number of hidden nodes'''\n",
    "\n",
    "batch_size = 20\n",
    "nh = 100"
   ]
  },
  {
   "cell_type": "code",
   "execution_count": 64,
   "id": "8dc0c773",
   "metadata": {},
   "outputs": [],
   "source": [
    "'''initialise weights and biases for three layer feed forward fully connected neural network'''\n",
    "\n",
    "rng = np.random.default_rng()\n",
    "W1 = (1/nx**0.5)*rng.normal(0,1,[nx,nh])\n",
    "b1 = np.zeros([nh,1])\n",
    "W2 = (1/nh**0.5)*rng.normal(0,1,[nh,ny])\n",
    "b2 = np.zeros([ny,1])"
   ]
  },
  {
   "cell_type": "code",
   "execution_count": 65,
   "id": "64c1c16e",
   "metadata": {},
   "outputs": [],
   "source": [
    "''' define a few helper functions and hyperparameters '''\n",
    "def sig(x):\n",
    "    return 1/(1+np.exp(-x))\n",
    "def relu(x):\n",
    "    return np.maximum(0,x)\n",
    "def drelu(x):\n",
    "    index = np.where(x>0)\n",
    "    y = np.zeros_like(x)\n",
    "    y[index] = 1\n",
    "    return y\n",
    "\n",
    "n_batches = int(m/batch_size)\n",
    "lr = 0.05\n",
    "n_epoch = 100\n",
    "\n",
    "errors =[]"
   ]
  },
  {
   "cell_type": "code",
   "execution_count": 66,
   "id": "9616b989",
   "metadata": {},
   "outputs": [
    {
     "name": "stdout",
     "output_type": "stream",
     "text": [
      "Epoch: 0 TSE: 352.0860242247679\n",
      "Epoch: 10 TSE: 20.82119801635074\n",
      "Epoch: 20 TSE: 9.24257831881024\n",
      "Epoch: 30 TSE: 6.383136782058274\n",
      "Epoch: 40 TSE: 5.317153278358453\n",
      "Epoch: 50 TSE: 4.602511364897391\n",
      "Epoch: 60 TSE: 4.028251871780561\n",
      "Epoch: 70 TSE: 3.8878214241748283\n",
      "Epoch: 80 TSE: 3.817696775143339\n",
      "Epoch: 90 TSE: 3.767959355311689\n"
     ]
    }
   ],
   "source": [
    "''' training '''\n",
    "\n",
    "\n",
    "\n",
    "for epoch in range(n_epoch):\n",
    "    error = 0\n",
    "    # permute the data for SGD\n",
    "    perm_idx = np.random.permutation(m)\n",
    "    X_train = X_train[:,perm_idx]\n",
    "    Y_train = Y_train[:,perm_idx]\n",
    "    for bat in range(n_batches):\n",
    "        x_batch = X_train[:,bat*batch_size:(1+bat)*batch_size]\n",
    "        y_batch = Y_train[:,bat*batch_size:(1+bat)*batch_size]\n",
    "        # forward pass\n",
    "        z1 = np.matmul(W1.T,x_batch) + b1\n",
    "        a1 = relu(z1)\n",
    "        z2 = np.matmul(W2.T,a1) + b2\n",
    "        a2 = sig(z2)\n",
    "        # backward pass\n",
    "        e = y_batch - a2\n",
    "        A2 = sig(z2)*(1-sig(z2))\n",
    "        S2 = - A2*e\n",
    "        A1 = drelu(z1)     #sig(z1)*(1-sig(z1))\n",
    "        S1 = A1*np.matmul(W2,S2)\n",
    "        # gradient descent\n",
    "        dW2 = np.matmul(a1,S2.T)\n",
    "        db2 = np.sum(S2, axis = 1, keepdims=True)\n",
    "        dW1 = np.matmul(x_batch,S1.T)\n",
    "        db1 = np.sum(S1, axis = 1, keepdims=True)\n",
    "        W2 -= lr * dW2\n",
    "        b2 -= lr * db2\n",
    "        W1 -= lr * dW1\n",
    "        b1 -= lr * db1\n",
    "        # compute the error \n",
    "        error += 0.5*np.sum(e*e)\n",
    "#         if (bat %100  == 0) and (epoch%100 ==0): \n",
    "#             prob = a2[y_batch*a2 !=0]\n",
    "#             print(\"epoch:\", epoch, \"batch:\", bat, \"XE:\", np.sum(-np.log(prob+0.00000001)))\n",
    "    if epoch%10 == 0:\n",
    "        print(\"Epoch:\", epoch, \"TSE:\", error)\n",
    "    errors.append(error)\n",
    "        \n",
    "    \n",
    "    "
   ]
  },
  {
   "cell_type": "code",
   "execution_count": 67,
   "id": "ce95af94",
   "metadata": {
    "scrolled": true
   },
   "outputs": [
    {
     "data": {
      "text/plain": [
       "Text(0.5, 1.0, '1 hidden, ReLU, TSE')"
      ]
     },
     "execution_count": 67,
     "metadata": {},
     "output_type": "execute_result"
    },
    {
     "data": {
      "image/png": "[encoded data removed]",
      "text/plain": [
       "<Figure size 640x480 with 1 Axes>"
      ]
     },
     "metadata": {},
     "output_type": "display_data"
    }
   ],
   "source": [
    "import matplotlib.pyplot as plt\n",
    "\n",
    "#plt.scatter(range(len(errors)),errors)\n",
    "plt.plot(errors)\n",
    "plt.xlabel('epoch')\n",
    "plt.ylabel('error')\n",
    "plt.title('1 hidden, ReLU, TSE')"
   ]
  },
  {
   "cell_type": "code",
   "execution_count": null,
   "id": "d4ee2ee5",
   "metadata": {},
   "outputs": [],
   "source": []
  },
  {
   "cell_type": "code",
   "execution_count": null,
   "id": "0cbb839b",
   "metadata": {},
   "outputs": [],
   "source": []
  },
  {
   "cell_type": "code",
   "execution_count": null,
   "id": "d499174c",
   "metadata": {},
   "outputs": [],
   "source": []
  },
  {
   "cell_type": "code",
   "execution_count": null,
   "id": "2eeb4f32",
   "metadata": {},
   "outputs": [],
   "source": []
  },
  {
   "cell_type": "markdown",
   "id": "7826c55b",
   "metadata": {},
   "source": [
    "# Test   87%"
   ]
  },
  {
   "cell_type": "code",
   "execution_count": 68,
   "id": "d7f97482",
   "metadata": {},
   "outputs": [
    {
     "data": {
      "image/png": "[encoded data removed]",
      "text/plain": [
       "<Figure size 640x480 with 2 Axes>"
      ]
     },
     "metadata": {},
     "output_type": "display_data"
    }
   ],
   "source": [
    "'''Forward pass the test data '''\n",
    "\n",
    "z1 = np.matmul(W1.T,X_test) + b1\n",
    "a1 = relu(z1)\n",
    "z2 = np.matmul(W2.T,a1) + b2\n",
    "a2 = sig(z2)\n",
    "\n",
    "''' turn the output into predictions '''\n",
    "\n",
    "pos = np.argmax(a2, axis =0)\n",
    "y_pred = np.zeros_like(a2)\n",
    "y_pred[pos,range(y_pred.shape[1])] = 1\n",
    "\n",
    "''' compute the confusion matirx '''\n",
    "confusion = np.zeros([10,10])\n",
    "for i in range(10):\n",
    "    for j in range(10):\n",
    "        confusion[i,j] = np.dot(y_pred[i],Y_test[j])\n",
    "\n",
    "import seaborn as sns\n",
    "\n",
    "confusion_int = confusion.astype(int)\n",
    "\n",
    "sns.heatmap(confusion_int, annot = True, fmt='d', cmap='Blues')\n",
    "plt.xlabel('True')\n",
    "plt.ylabel('Predicted')\n",
    "plt.title('Confusion Matrix')\n",
    "plt.show()"
   ]
  },
  {
   "cell_type": "code",
   "execution_count": 69,
   "id": "be317dde",
   "metadata": {},
   "outputs": [
    {
     "data": {
      "text/plain": [
       "0.86"
      ]
     },
     "execution_count": 69,
     "metadata": {},
     "output_type": "execute_result"
    }
   ],
   "source": [
    "np.trace(confusion)/X_test.shape[1]"
   ]
  },
  {
   "cell_type": "code",
   "execution_count": null,
   "id": "e7af10a3",
   "metadata": {},
   "outputs": [],
   "source": []
  },
  {
   "cell_type": "code",
   "execution_count": null,
   "id": "bfbb7337",
   "metadata": {},
   "outputs": [],
   "source": []
  }
 ],
 "metadata": {
  "kernelspec": {
   "display_name": "Python 3 (ipykernel)",
   "language": "python",
   "name": "python3"
  },
  "language_info": {
   "codemirror_mode": {
    "name": "ipython",
    "version": 3
   },
   "file_extension": ".py",
   "mimetype": "text/x-python",
   "name": "python",
   "nbconvert_exporter": "python",
   "pygments_lexer": "ipython3",
   "version": "3.10.9"
  }
 },
 "nbformat": 4,
 "nbformat_minor": 5
}
