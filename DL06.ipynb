{
 "cells": [
  {
   "cell_type": "markdown",
   "id": "64e58573",
   "metadata": {},
   "source": [
    "## three hidden layers, ReLU, XE\n"
   ]
  },
  {
   "cell_type": "code",
   "execution_count": 1,
   "id": "9da8a67c",
   "metadata": {},
   "outputs": [],
   "source": [
    "import numpy as np\n",
    "\n",
    "'''read the data'''\n",
    "\n",
    "# Specify the path to the CSV file\n",
    "path_train = 'data/MNIST_train_1000.csv'\n",
    "path_test = 'data/MNIST_test_100.csv'\n",
    "\n",
    "\n",
    "data_train = np.genfromtxt(path_train, delimiter=',', skip_header=0, dtype=int)\n",
    "data_test = np.genfromtxt(path_test, delimiter=',', skip_header=0, dtype=int)"
   ]
  },
  {
   "cell_type": "code",
   "execution_count": 2,
   "id": "de280058",
   "metadata": {},
   "outputs": [],
   "source": [
    "m,m1 = data_train.shape[0], data_test.shape[0]\n",
    "ny = 10"
   ]
  },
  {
   "cell_type": "code",
   "execution_count": 3,
   "id": "e74212c6",
   "metadata": {},
   "outputs": [],
   "source": [
    "'''\n",
    "get the training and test split and one-hot embedding of labels \n",
    "\n",
    "notice that each example is a column\n",
    "'''\n",
    "\n",
    "X_train = data_train[:,1:].T/255\n",
    "\n",
    "Y_train = np.zeros([ny,m])\n",
    "Y_train[data_train[:,0],range(m)]=1\n",
    "\n",
    "\n",
    "X_test = data_test[:,1:].T/255\n",
    "\n",
    "Y_test = np.zeros([ny,m1])\n",
    "Y_test[data_test[:,0],range(m1)]=1\n",
    "\n",
    "nx = X_train.shape[0]"
   ]
  },
  {
   "cell_type": "code",
   "execution_count": 4,
   "id": "2aad962b",
   "metadata": {},
   "outputs": [],
   "source": [
    "'''define mini-batches and set up the number of hidden nodes'''\n",
    "\n",
    "batch_size = 20\n",
    "nh1,nh2,nh3 = 100,100,100"
   ]
  },
  {
   "cell_type": "code",
   "execution_count": 5,
   "id": "8dc0c773",
   "metadata": {},
   "outputs": [],
   "source": [
    "'''initialise weights and biases for three layer feed forward fully connected neural network'''\n",
    "\n",
    "rng = np.random.default_rng()\n",
    "W1 = (1/nx**0.5)*rng.normal(0,1,[nx,nh1])\n",
    "b1 = np.zeros([nh1,1])\n",
    "W2 = (1/nh1**0.5)*rng.normal(0,1,[nh1,nh2])\n",
    "b2 = np.zeros([nh2,1])\n",
    "W3 = (1/nh2**0.5)*rng.normal(0,1,[nh2,nh3])\n",
    "b3 = np.zeros([nh3,1])\n",
    "W4 = (1/nh3**0.5)*rng.normal(0,1,[nh3,ny])\n",
    "b4 = np.zeros([ny,1])"
   ]
  },
  {
   "cell_type": "code",
   "execution_count": 6,
   "id": "64c1c16e",
   "metadata": {},
   "outputs": [],
   "source": [
    "''' define a few helper functions and hyperparameters '''\n",
    "def sig(x):\n",
    "    return 1/(1+np.exp(-x))\n",
    "\n",
    "def relu(x):\n",
    "    return np.maximum(0,x)\n",
    "\n",
    "def drelu(x):\n",
    "    index = np.where(x>0)\n",
    "    y = np.zeros_like(x)\n",
    "    y[index] = 1\n",
    "    return y\n",
    "\n",
    "def softmax(x):\n",
    "    return np.exp(x)/np.sum(np.exp(x), axis = 0, keepdims = True)\n",
    "\n",
    "n_batches = int(m/batch_size)\n",
    "#lr = 0.0001\n",
    "n_epoch = 100\n",
    "\n",
    "errors =[]"
   ]
  },
  {
   "cell_type": "code",
   "execution_count": 7,
   "id": "9616b989",
   "metadata": {},
   "outputs": [
    {
     "name": "stdout",
     "output_type": "stream",
     "text": [
      "Epoch: 0 XE: 1883.2886575096907\n",
      "Epoch: 1 XE: 987.6030026402411\n",
      "Epoch: 2 XE: 664.9705306496573\n",
      "Epoch: 3 XE: 580.2628683566126\n",
      "Epoch: 4 XE: 421.8563445179882\n",
      "Epoch: 5 XE: 334.4268116954016\n",
      "Epoch: 6 XE: 343.22489399062124\n",
      "Epoch: 7 XE: 300.9373740730386\n",
      "Epoch: 8 XE: 243.73277869397614\n",
      "Epoch: 9 XE: 221.19377502991006\n",
      "Epoch: 10 XE: 269.3548187150253\n",
      "Epoch: 11 XE: 175.69977250928937\n",
      "Epoch: 12 XE: 136.32941372228203\n",
      "Epoch: 13 XE: 103.97953443093513\n",
      "Epoch: 14 XE: 72.96596881610503\n",
      "Epoch: 15 XE: 101.1707974307243\n",
      "Epoch: 16 XE: 179.8155088194568\n",
      "Epoch: 17 XE: 188.29933429370362\n",
      "Epoch: 18 XE: 114.0248756899777\n",
      "Epoch: 19 XE: 53.88972166374938\n",
      "Epoch: 20 XE: 95.76914364359506\n",
      "Epoch: 21 XE: 29.992018282808466\n",
      "Epoch: 22 XE: 58.363476902539354\n",
      "Epoch: 23 XE: 11.763002286917036\n",
      "Epoch: 24 XE: 6.481150071948369\n",
      "Epoch: 25 XE: 3.7466853691767303\n",
      "Epoch: 26 XE: 3.156537695882849\n",
      "Epoch: 27 XE: 2.672768676620263\n",
      "Epoch: 28 XE: 2.2635468254140236\n",
      "Epoch: 29 XE: 2.008558784700998\n",
      "Epoch: 30 XE: 1.7819506734276382\n",
      "Epoch: 31 XE: 1.580118515013603\n",
      "Epoch: 32 XE: 1.4297633065396818\n",
      "Epoch: 33 XE: 1.304251533618092\n",
      "Epoch: 34 XE: 1.2040320503569872\n",
      "Epoch: 35 XE: 1.128849799515383\n",
      "Epoch: 36 XE: 1.0661034573410557\n",
      "Epoch: 37 XE: 1.0069592957845679\n",
      "Epoch: 38 XE: 0.920623140403783\n",
      "Epoch: 39 XE: 0.8887371465769204\n",
      "Epoch: 40 XE: 0.8446683590622558\n",
      "Epoch: 41 XE: 0.7984583336835307\n",
      "Epoch: 42 XE: 0.7636801092493505\n",
      "Epoch: 43 XE: 0.7282387850547672\n",
      "Epoch: 44 XE: 0.7110696059864893\n",
      "Epoch: 45 XE: 0.6729335843080992\n",
      "Epoch: 46 XE: 0.6349139115996429\n",
      "Epoch: 47 XE: 0.602577019075549\n",
      "Epoch: 48 XE: 0.5846434197144883\n",
      "Epoch: 49 XE: 0.5591265495573327\n",
      "Epoch: 50 XE: 0.5364136267607624\n",
      "Epoch: 51 XE: 0.516040351629947\n",
      "Epoch: 52 XE: 0.4995115095785641\n",
      "Epoch: 53 XE: 0.47661749923016494\n",
      "Epoch: 54 XE: 0.4596918660063777\n",
      "Epoch: 55 XE: 0.44910276870235966\n",
      "Epoch: 56 XE: 0.43684032193972877\n",
      "Epoch: 57 XE: 0.42562705265834366\n",
      "Epoch: 58 XE: 0.40919870792694696\n",
      "Epoch: 59 XE: 0.3993610904078201\n",
      "Epoch: 60 XE: 0.3884331226764047\n",
      "Epoch: 61 XE: 0.3790455077053089\n",
      "Epoch: 62 XE: 0.36694948242214026\n",
      "Epoch: 63 XE: 0.3608766189305782\n",
      "Epoch: 64 XE: 0.34932594738556944\n",
      "Epoch: 65 XE: 0.33964269777823264\n",
      "Epoch: 66 XE: 0.33132758600323314\n",
      "Epoch: 67 XE: 0.32512435921752997\n",
      "Epoch: 68 XE: 0.31674108997044464\n",
      "Epoch: 69 XE: 0.31118411693709985\n",
      "Epoch: 70 XE: 0.3030273647537682\n",
      "Epoch: 71 XE: 0.29578720320037455\n",
      "Epoch: 72 XE: 0.28803545629742955\n",
      "Epoch: 73 XE: 0.2827690419672929\n",
      "Epoch: 74 XE: 0.2744908552891685\n",
      "Epoch: 75 XE: 0.2705809822775113\n",
      "Epoch: 76 XE: 0.2664622708998916\n",
      "Epoch: 77 XE: 0.26008132712388393\n",
      "Epoch: 78 XE: 0.2547668717731663\n",
      "Epoch: 79 XE: 0.24987393038209463\n",
      "Epoch: 80 XE: 0.24245590376009907\n",
      "Epoch: 81 XE: 0.23992725427476147\n",
      "Epoch: 82 XE: 0.23487261641399668\n",
      "Epoch: 83 XE: 0.2279460975606732\n",
      "Epoch: 84 XE: 0.22569092806641824\n",
      "Epoch: 85 XE: 0.2203542690701672\n",
      "Epoch: 86 XE: 0.21722051604916362\n",
      "Epoch: 87 XE: 0.21230312615739078\n",
      "Epoch: 88 XE: 0.20792111268180422\n",
      "Epoch: 89 XE: 0.20347288437280645\n",
      "Epoch: 90 XE: 0.2004936205002288\n",
      "Epoch: 91 XE: 0.19724239666919993\n",
      "Epoch: 92 XE: 0.19380863767484333\n",
      "Epoch: 93 XE: 0.1903733014918453\n",
      "Epoch: 94 XE: 0.1860600736438356\n",
      "Epoch: 95 XE: 0.18321601046505195\n",
      "Epoch: 96 XE: 0.17972117730460194\n",
      "Epoch: 97 XE: 0.17652258556547404\n",
      "Epoch: 98 XE: 0.1740506183843052\n",
      "Epoch: 99 XE: 0.17076540310419797\n"
     ]
    }
   ],
   "source": [
    "''' training '''\n",
    "\n",
    "lr=0.01\n",
    "\n",
    "for epoch in range(n_epoch):\n",
    "    # permute the data for SGD\n",
    "    perm_idx = np.random.permutation(m)\n",
    "    X_train = X_train[:,perm_idx]\n",
    "    Y_train = Y_train[:,perm_idx]\n",
    "    # initialise error of the current epoch\n",
    "    error = 0\n",
    "    for bat in range(n_batches):\n",
    "        x_batch = X_train[:,bat*batch_size:(1+bat)*batch_size]\n",
    "        y_batch = Y_train[:,bat*batch_size:(1+bat)*batch_size]\n",
    "        # forward pass\n",
    "        z1 = np.matmul(W1.T,x_batch) + b1\n",
    "        a1 = relu(z1)\n",
    "        z2 = np.matmul(W2.T,a1) + b2\n",
    "        a2 = relu(z2)\n",
    "        z3 = np.matmul(W3.T,a2) + b3\n",
    "        a3 = relu(z3)\n",
    "        z4 = np.matmul(W4.T,a3) + b4\n",
    "        a4 = softmax(z4)   \n",
    "        # backward pass\n",
    "        e = y_batch - a4    \n",
    "        S4 = - e\n",
    "        A3 = drelu(z3) \n",
    "        S3 = A3*np.matmul(W4,S4)\n",
    "        A2 = drelu(z2)\n",
    "        S2 = A2*np.matmul(W3,S3)\n",
    "        A1 = drelu(z2)\n",
    "        S1 = A1*np.matmul(W2,S2)\n",
    "        # gradient descent\n",
    "        dW4 = np.matmul(a3,S4.T)\n",
    "        db4 = np.sum(S4, axis = 1, keepdims=True)\n",
    "        dW3 = np.matmul(a2,S3.T)\n",
    "        db3 = np.sum(S3, axis = 1, keepdims=True)\n",
    "        dW2 = np.matmul(a1,S2.T)\n",
    "        db2 = np.sum(S2, axis = 1, keepdims=True)\n",
    "        dW1 = np.matmul(x_batch,S1.T)\n",
    "        db1 = np.sum(S1, axis = 1, keepdims=True)\n",
    "        W4 -= lr * dW4\n",
    "        b4 -= lr * db4\n",
    "        W3 -= lr * dW3\n",
    "        b3 -= lr * db3\n",
    "        W2 -= lr * dW2\n",
    "        b2 -= lr * db2\n",
    "        W1 -= lr * dW1\n",
    "        b1 -= lr * db1\n",
    "        # accumulate the error across all batches \n",
    "        prob = a4[y_batch*a4 !=0]\n",
    "        error += np.sum(-np.log(prob+0.00000001))\n",
    "    # report error of the current epoch\n",
    "    print(\"Epoch:\", epoch, \"XE:\", error)\n",
    "    errors.append(error)\n",
    "        \n",
    "    \n",
    "    "
   ]
  },
  {
   "cell_type": "code",
   "execution_count": 8,
   "id": "ce95af94",
   "metadata": {
    "scrolled": true
   },
   "outputs": [
    {
     "data": {
      "text/plain": [
       "Text(0.5, 1.0, '3 hidden, ReLU, XE')"
      ]
     },
     "execution_count": 8,
     "metadata": {},
     "output_type": "execute_result"
    },
    {
     "data": {
      "image/png": "[encoded data removed]",
      "text/plain": [
       "<Figure size 640x480 with 1 Axes>"
      ]
     },
     "metadata": {},
     "output_type": "display_data"
    }
   ],
   "source": [
    "import matplotlib.pyplot as plt\n",
    "\n",
    "plt.plot(errors)\n",
    "plt.xlabel('epoch')\n",
    "plt.ylabel('error')\n",
    "plt.title('3 hidden, ReLU, XE')"
   ]
  },
  {
   "cell_type": "code",
   "execution_count": null,
   "id": "a0758125",
   "metadata": {},
   "outputs": [],
   "source": []
  },
  {
   "cell_type": "code",
   "execution_count": null,
   "id": "354782b0",
   "metadata": {},
   "outputs": [],
   "source": []
  },
  {
   "cell_type": "code",
   "execution_count": null,
   "id": "a7c131ee",
   "metadata": {},
   "outputs": [],
   "source": []
  },
  {
   "cell_type": "code",
   "execution_count": null,
   "id": "687961e2",
   "metadata": {},
   "outputs": [],
   "source": []
  },
  {
   "cell_type": "code",
   "execution_count": null,
   "id": "ef41ff24",
   "metadata": {},
   "outputs": [],
   "source": []
  },
  {
   "cell_type": "code",
   "execution_count": null,
   "id": "d4ef65fd",
   "metadata": {},
   "outputs": [],
   "source": []
  },
  {
   "cell_type": "markdown",
   "id": "8e7d44fc",
   "metadata": {},
   "source": [
    "##  Test  85% "
   ]
  },
  {
   "cell_type": "code",
   "execution_count": 9,
   "id": "ca6c6b04",
   "metadata": {},
   "outputs": [
    {
     "data": {
      "image/png": "[encoded data removed]",
      "text/plain": [
       "<Figure size 640x480 with 2 Axes>"
      ]
     },
     "metadata": {},
     "output_type": "display_data"
    }
   ],
   "source": [
    "'''Forward pass the test data '''\n",
    "\n",
    "z1 = np.matmul(W1.T,X_test) + b1\n",
    "a1 = relu(z1)\n",
    "z2 = np.matmul(W2.T,a1) + b2\n",
    "a2 = relu(z2)\n",
    "z3 = np.matmul(W3.T,a2) + b3\n",
    "a3 = relu(z3)\n",
    "z4 = np.matmul(W4.T,a3) + b4\n",
    "a4 = softmax(z4)\n",
    "\n",
    "''' turn the output into predictions '''\n",
    "\n",
    "pos = np.argmax(a4, axis =0)\n",
    "y_pred = np.zeros_like(a4)\n",
    "y_pred[pos,range(y_pred.shape[1])] = 1\n",
    "\n",
    "''' compute the confusion matirx '''\n",
    "confusion = np.zeros([10,10])\n",
    "for i in range(10):\n",
    "    for j in range(10):\n",
    "        confusion[i,j] = np.dot(y_pred[i],Y_test[j])\n",
    "\n",
    "import seaborn as sns\n",
    "\n",
    "confusion_int = confusion.astype(int)\n",
    "\n",
    "sns.heatmap(confusion_int, annot = True, fmt='d', cmap='Blues')\n",
    "plt.xlabel('True')\n",
    "plt.ylabel('Predicted')\n",
    "plt.title('Confusion Matrix')\n",
    "plt.show()"
   ]
  },
  {
   "cell_type": "code",
   "execution_count": 10,
   "id": "f169ffde",
   "metadata": {},
   "outputs": [
    {
     "data": {
      "text/plain": [
       "0.87"
      ]
     },
     "execution_count": 10,
     "metadata": {},
     "output_type": "execute_result"
    }
   ],
   "source": [
    "np.trace(confusion)/100"
   ]
  },
  {
   "cell_type": "code",
   "execution_count": null,
   "id": "4f5eae31",
   "metadata": {},
   "outputs": [],
   "source": []
  },
  {
   "cell_type": "code",
   "execution_count": null,
   "id": "0322367f",
   "metadata": {},
   "outputs": [],
   "source": []
  }
 ],
 "metadata": {
  "kernelspec": {
   "display_name": "Python 3 (ipykernel)",
   "language": "python",
   "name": "python3"
  },
  "language_info": {
   "codemirror_mode": {
    "name": "ipython",
    "version": 3
   },
   "file_extension": ".py",
   "mimetype": "text/x-python",
   "name": "python",
   "nbconvert_exporter": "python",
   "pygments_lexer": "ipython3",
   "version": "3.10.9"
  }
 },
 "nbformat": 4,
 "nbformat_minor": 5
}
