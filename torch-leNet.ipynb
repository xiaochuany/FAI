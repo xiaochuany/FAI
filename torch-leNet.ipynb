{
 "cells": [
  {
   "cell_type": "code",
   "execution_count": null,
   "id": "619ce00c-14d2-4b30-b487-148332b26823",
   "metadata": {},
   "outputs": [],
   "source": [
    "import torch \n",
    "import torch.nn as nn\n",
    "import torch.nn.functional as F\n",
    "from torch.utils.data import DataLoader \n",
    "from torchvision import datasets, transforms\n",
    "from torch.optim import AdamW"
   ]
  },
  {
   "cell_type": "code",
   "execution_count": null,
   "id": "ee0036ff-e363-41d7-9cde-9df576e14fc4",
   "metadata": {},
   "outputs": [],
   "source": [
    "class LeNet(nn.Module):\n",
    "    \"\"\"conv net lecun\"\"\"\n",
    "    def __init__(self):\n",
    "        super().__init__()\n",
    "        self.conv_block = nn.Sequential(nn.Conv2d(1,32,5), \n",
    "                       nn.MaxPool2d(3), \n",
    "                       nn.ReLU(),\n",
    "                       nn.Conv2d(32,64,5),\n",
    "                       nn.MaxPool2d(2), \n",
    "                       nn.ReLU()\n",
    "                      )\n",
    "        self.mlp = nn.Sequential(nn.Linear(256,200), nn.ReLU(), nn.Linear(200,10))\n",
    "\n",
    "    def forward(self,x, y=None):\n",
    "        x = self.conv_block(x)\n",
    "        x = x.view(-1,256)\n",
    "        logits = self.mlp(x)\n",
    "        if y is None:\n",
    "            loss = None\n",
    "        else:\n",
    "            loss = F.cross_entropy(logits.view(-1,10), y)\n",
    "        return logits, loss"
   ]
  },
  {
   "cell_type": "code",
   "execution_count": null,
   "id": "028591a2-94e9-49c6-8936-87c72b357675",
   "metadata": {},
   "outputs": [],
   "source": [
    "device = torch.device(\"cuda:0\") if torch.cuda.is_available() else torch.device(\"cpu\")"
   ]
  },
  {
   "cell_type": "code",
   "execution_count": null,
   "id": "42c3c601-4127-4f4d-80cd-ba92595db86d",
   "metadata": {},
   "outputs": [],
   "source": [
    "mnist = datasets.MNIST('./data', train = True, download=True, transform=transforms.ToTensor())\n",
    "dataloader = DataLoader(mnist,batch_size=128, shuffle=True)"
   ]
  },
  {
   "cell_type": "code",
   "execution_count": null,
   "id": "4cab8d22-4a5a-4b37-bd4d-4f44818a3f1f",
   "metadata": {},
   "outputs": [],
   "source": [
    "model = LeNet().to(device)\n",
    "opt = AdamW(model.parameters())"
   ]
  },
  {
   "cell_type": "code",
   "execution_count": null,
   "id": "7b27790d-d5e0-496c-b766-992f8017dc74",
   "metadata": {},
   "outputs": [
    {
     "data": {
      "text/plain": [
       "10000"
      ]
     },
     "execution_count": null,
     "metadata": {},
     "output_type": "execute_result"
    }
   ],
   "source": [
    "mnist_test = datasets.MNIST('./data', train = False, download=True, transform=transforms.ToTensor())\n",
    "test_dataloader = DataLoader(mnist_test,batch_size=128)\n",
    "len(mnist_test)"
   ]
  },
  {
   "cell_type": "code",
   "execution_count": null,
   "id": "754a883a-2f97-4d71-b407-c87baceb67fd",
   "metadata": {},
   "outputs": [],
   "source": [
    "@torch.inference_mode()\n",
    "def eval():\n",
    "    counts = 0\n",
    "    for X,Y in test_dataloader:\n",
    "        X=X.to(device)\n",
    "        Y=Y.to(device)\n",
    "        logits, _ = model(X)\n",
    "        preds = torch.argmax(logits,dim=-1)\n",
    "        counts += torch.eq(preds,Y).sum().item()\n",
    "    acc = counts/len(mnist_test)\n",
    "    return acc"
   ]
  },
  {
   "cell_type": "code",
   "execution_count": null,
   "id": "a0096629-6446-44c8-864e-f3ad51a90165",
   "metadata": {},
   "outputs": [
    {
     "name": "stdout",
     "output_type": "stream",
     "text": [
      "100th batch loss.item()=0.293359\n",
      "0.9276\n",
      "200th batch loss.item()=0.162600\n",
      "0.962\n",
      "300th batch loss.item()=0.099568\n",
      "0.9716\n",
      "400th batch loss.item()=0.088467\n",
      "0.9704\n"
     ]
    }
   ],
   "source": [
    "model.train()\n",
    "for i, batch in enumerate(dataloader):\n",
    "    X,Y= batch[0].to(device), batch[1].to(device)\n",
    "    logits, loss = model(X,Y)\n",
    "    loss.backward()\n",
    "    opt.step()\n",
    "    opt.zero_grad()\n",
    "    if (i+1)%100 == 0:\n",
    "        print(f'{i+1}th batch {loss.item()=:04f}')\n",
    "        print(eval())"
   ]
  },
  {
   "cell_type": "code",
   "execution_count": null,
   "id": "f7751234-9409-4773-a95e-8d522c4de5d9",
   "metadata": {},
   "outputs": [],
   "source": []
  }
 ],
 "metadata": {
  "kernelspec": {
   "display_name": "python3",
   "language": "python",
   "name": "python3"
  }
 },
 "nbformat": 4,
 "nbformat_minor": 5
}
