{
 "cells": [
  {
   "cell_type": "markdown",
   "id": "d724bedf",
   "metadata": {},
   "source": [
    "## one hidden layer, sigmoid, squared loss"
   ]
  },
  {
   "cell_type": "code",
   "execution_count": 14,
   "id": "9da8a67c",
   "metadata": {},
   "outputs": [],
   "source": [
    "import numpy as np\n",
    "\n",
    "'''read the data'''\n",
    "\n",
    "# Specify the path to the CSV file\n",
    "path_train = 'data/MNIST_train_1000.csv'\n",
    "path_test = 'data/MNIST_test_100.csv'\n",
    "\n",
    "\n",
    "data_train = np.genfromtxt(path_train, delimiter=',', skip_header=0, dtype=int)\n",
    "data_test = np.genfromtxt(path_test, delimiter=',', skip_header=0, dtype=int)"
   ]
  },
  {
   "cell_type": "code",
   "execution_count": 15,
   "id": "de280058",
   "metadata": {},
   "outputs": [],
   "source": [
    "m,m1 = data_train.shape[0], data_test.shape[0]\n",
    "ny = 10"
   ]
  },
  {
   "cell_type": "code",
   "execution_count": 16,
   "id": "e74212c6",
   "metadata": {},
   "outputs": [],
   "source": [
    "'''\n",
    "get the training and test split and one-hot embedding of labels \n",
    "\n",
    "notice that each example is a column\n",
    "'''\n",
    "\n",
    "X_train = data_train[:,1:].T/255\n",
    "\n",
    "Y_train = np.zeros([ny,m])\n",
    "Y_train[data_train[:,0],range(m)]=1\n",
    "\n",
    "\n",
    "X_test = data_test[:,1:].T/255\n",
    "\n",
    "Y_test = np.zeros([ny,m1])\n",
    "Y_test[data_test[:,0],range(m1)]=1\n",
    "\n",
    "nx = X_train.shape[0]"
   ]
  },
  {
   "cell_type": "code",
   "execution_count": 17,
   "id": "2aad962b",
   "metadata": {},
   "outputs": [],
   "source": [
    "'''define mini-batches and set up the number of hidden nodes'''\n",
    "\n",
    "batch_size = 20\n",
    "nh = 100"
   ]
  },
  {
   "cell_type": "code",
   "execution_count": 18,
   "id": "8dc0c773",
   "metadata": {},
   "outputs": [],
   "source": [
    "'''initialise weights and biases for three layer feed forward fully connected neural network'''\n",
    "\n",
    "rng = np.random.default_rng()\n",
    "W1 = (1/nx**0.5)*rng.normal(0,1,[nx,nh])\n",
    "b1 = np.zeros([nh,1])\n",
    "W2 = (1/nh**0.5)*rng.normal(0,1,[nh,ny])\n",
    "b2 = np.zeros([ny,1])"
   ]
  },
  {
   "cell_type": "code",
   "execution_count": 19,
   "id": "64c1c16e",
   "metadata": {},
   "outputs": [],
   "source": [
    "''' define a few helper functions and hyperparameters '''\n",
    "def sig(x):\n",
    "    return 1/(1+np.exp(-x))\n",
    "\n",
    "n_batches = int(m/batch_size)\n",
    "lr = 0.05\n",
    "n_epoch = 100\n",
    "\n",
    "errors =[]"
   ]
  },
  {
   "cell_type": "code",
   "execution_count": 20,
   "id": "9616b989",
   "metadata": {},
   "outputs": [
    {
     "name": "stdout",
     "output_type": "stream",
     "text": [
      "Epoch: 0 TSE: 457.6992418787478\n",
      "Epoch: 1 TSE: 367.065742640946\n",
      "Epoch: 2 TSE: 275.9192270807881\n",
      "Epoch: 3 TSE: 215.59707747440405\n",
      "Epoch: 4 TSE: 180.8484873931163\n",
      "Epoch: 5 TSE: 153.73070803493636\n",
      "Epoch: 6 TSE: 135.82142675664636\n",
      "Epoch: 7 TSE: 121.1760403184296\n",
      "Epoch: 8 TSE: 108.13564580147187\n",
      "Epoch: 9 TSE: 100.36368092369887\n",
      "Epoch: 10 TSE: 92.92641374039003\n",
      "Epoch: 11 TSE: 86.04722829054862\n",
      "Epoch: 12 TSE: 80.63256802891941\n",
      "Epoch: 13 TSE: 76.0246346283138\n",
      "Epoch: 14 TSE: 71.91820432472478\n",
      "Epoch: 15 TSE: 67.88896257641805\n",
      "Epoch: 16 TSE: 64.28204829104918\n",
      "Epoch: 17 TSE: 61.15492245840896\n",
      "Epoch: 18 TSE: 57.85851126459079\n",
      "Epoch: 19 TSE: 56.12894704437413\n",
      "Epoch: 20 TSE: 53.331020569951704\n",
      "Epoch: 21 TSE: 50.67842685372707\n",
      "Epoch: 22 TSE: 48.27361843229564\n",
      "Epoch: 23 TSE: 46.71045460292774\n",
      "Epoch: 24 TSE: 44.59183286779522\n",
      "Epoch: 25 TSE: 42.0840140282102\n",
      "Epoch: 26 TSE: 40.871045626208556\n",
      "Epoch: 27 TSE: 38.95088062560546\n",
      "Epoch: 28 TSE: 37.92253627877397\n",
      "Epoch: 29 TSE: 36.30887477104059\n",
      "Epoch: 30 TSE: 34.55464945604583\n",
      "Epoch: 31 TSE: 33.110352980210614\n",
      "Epoch: 32 TSE: 32.412530329227735\n",
      "Epoch: 33 TSE: 30.683408530737392\n",
      "Epoch: 34 TSE: 29.68225477401394\n",
      "Epoch: 35 TSE: 28.718015315391813\n",
      "Epoch: 36 TSE: 27.853795571885982\n",
      "Epoch: 37 TSE: 26.836686419185174\n",
      "Epoch: 38 TSE: 25.804041373412467\n",
      "Epoch: 39 TSE: 25.054451177642594\n",
      "Epoch: 40 TSE: 24.34227489359662\n",
      "Epoch: 41 TSE: 23.633569395258277\n",
      "Epoch: 42 TSE: 23.082840284175756\n",
      "Epoch: 43 TSE: 22.519319136657973\n",
      "Epoch: 44 TSE: 21.831389732938682\n",
      "Epoch: 45 TSE: 21.287581942630748\n",
      "Epoch: 46 TSE: 20.76353689653024\n",
      "Epoch: 47 TSE: 20.34193396193692\n",
      "Epoch: 48 TSE: 19.855860439601123\n",
      "Epoch: 49 TSE: 19.342274755430175\n",
      "Epoch: 50 TSE: 18.951289551758133\n",
      "Epoch: 51 TSE: 18.645072400616357\n",
      "Epoch: 52 TSE: 18.261490261956226\n",
      "Epoch: 53 TSE: 17.987162288592252\n",
      "Epoch: 54 TSE: 17.595230316440535\n",
      "Epoch: 55 TSE: 17.37380167498924\n",
      "Epoch: 56 TSE: 17.074891823282208\n",
      "Epoch: 57 TSE: 16.885666057017286\n",
      "Epoch: 58 TSE: 16.517563062749883\n",
      "Epoch: 59 TSE: 16.2986085732649\n",
      "Epoch: 60 TSE: 15.973649847971949\n",
      "Epoch: 61 TSE: 15.808830001800189\n",
      "Epoch: 62 TSE: 15.505126632267965\n",
      "Epoch: 63 TSE: 15.341669304892667\n",
      "Epoch: 64 TSE: 14.958836529815908\n",
      "Epoch: 65 TSE: 14.728875544908618\n",
      "Epoch: 66 TSE: 14.524753685097988\n",
      "Epoch: 67 TSE: 14.398791000402428\n",
      "Epoch: 68 TSE: 14.073262017426817\n",
      "Epoch: 69 TSE: 13.880766356799024\n",
      "Epoch: 70 TSE: 13.704461212622949\n",
      "Epoch: 71 TSE: 13.531918629427196\n",
      "Epoch: 72 TSE: 13.265552876982147\n",
      "Epoch: 73 TSE: 13.130097256888504\n",
      "Epoch: 74 TSE: 12.918439149414045\n",
      "Epoch: 75 TSE: 12.779953689859646\n",
      "Epoch: 76 TSE: 12.540057488959661\n",
      "Epoch: 77 TSE: 12.418895867899042\n",
      "Epoch: 78 TSE: 12.199770461137161\n",
      "Epoch: 79 TSE: 11.997967632779899\n",
      "Epoch: 80 TSE: 11.852881560644118\n",
      "Epoch: 81 TSE: 11.600573765510156\n",
      "Epoch: 82 TSE: 11.484091293949431\n",
      "Epoch: 83 TSE: 11.333006805693595\n",
      "Epoch: 84 TSE: 11.166035908472587\n",
      "Epoch: 85 TSE: 11.00241234611455\n",
      "Epoch: 86 TSE: 10.851038988214354\n",
      "Epoch: 87 TSE: 10.697882025170754\n",
      "Epoch: 88 TSE: 10.603525515898331\n",
      "Epoch: 89 TSE: 10.433546432314182\n",
      "Epoch: 90 TSE: 10.28202910753755\n",
      "Epoch: 91 TSE: 10.163600600552785\n",
      "Epoch: 92 TSE: 10.01720409967558\n",
      "Epoch: 93 TSE: 9.8473037966206\n",
      "Epoch: 94 TSE: 9.691255253564192\n",
      "Epoch: 95 TSE: 9.560673523635577\n",
      "Epoch: 96 TSE: 9.364545564897975\n",
      "Epoch: 97 TSE: 9.307602667938433\n",
      "Epoch: 98 TSE: 9.02976569969892\n",
      "Epoch: 99 TSE: 8.878136119721457\n"
     ]
    }
   ],
   "source": [
    "''' training '''\n",
    "\n",
    "for epoch in range(n_epoch):\n",
    "    error = 0\n",
    "    # permute the data for SGD\n",
    "    perm_idx = np.random.permutation(m)\n",
    "    X_train = X_train[:,perm_idx]\n",
    "    Y_train = Y_train[:,perm_idx]\n",
    "    for bat in range(n_batches):\n",
    "        x_batch = X_train[:,bat*batch_size:(1+bat)*batch_size]\n",
    "        y_batch = Y_train[:,bat*batch_size:(1+bat)*batch_size]\n",
    "        # forward pass\n",
    "        z1 = np.matmul(W1.T,x_batch) + b1\n",
    "        a1 = sig(z1)\n",
    "        z2 = np.matmul(W2.T,a1) + b2\n",
    "        a2 = sig(z2)\n",
    "        # backward pass\n",
    "        e = y_batch - a2\n",
    "        A2 = sig(z2)*(1-sig(z2))\n",
    "        S2 = - A2*e\n",
    "        A1 = sig(z1)*(1-sig(z1))\n",
    "        S1 = A1*np.matmul(W2,S2)\n",
    "        # gradient descent\n",
    "        dW2 = np.matmul(a1,S2.T)\n",
    "        db2 = np.sum(S2, axis = 1, keepdims=True)\n",
    "        dW1 = np.matmul(x_batch,S1.T)\n",
    "        db1 = np.sum(S1, axis = 1, keepdims=True)\n",
    "        W2 -= lr * dW2\n",
    "        b2 -= lr * db2\n",
    "        W1 -= lr * dW1\n",
    "        b1 -= lr * db1\n",
    "        # compute the error \n",
    "        error += 0.5*np.sum(e*e)\n",
    "    # report error of the current epoch\n",
    "    print(\"Epoch:\", epoch, \"TSE:\", error)\n",
    "    errors.append(error)\n",
    "        \n",
    "    \n",
    "    "
   ]
  },
  {
   "cell_type": "code",
   "execution_count": 21,
   "id": "ce95af94",
   "metadata": {
    "scrolled": true
   },
   "outputs": [
    {
     "data": {
      "text/plain": [
       "Text(0.5, 1.0, '1 hidden, TSE, sigmoid')"
      ]
     },
     "execution_count": 21,
     "metadata": {},
     "output_type": "execute_result"
    },
    {
     "data": {
      "image/png": "[encoded data removed]",
      "text/plain": [
       "<Figure size 640x480 with 1 Axes>"
      ]
     },
     "metadata": {},
     "output_type": "display_data"
    }
   ],
   "source": [
    "import matplotlib.pyplot as plt\n",
    "plt.plot(errors)\n",
    "plt.xlabel('epoch')\n",
    "plt.ylabel('error')\n",
    "plt.title('1 hidden, TSE, sigmoid')"
   ]
  },
  {
   "cell_type": "code",
   "execution_count": null,
   "id": "d4ee2ee5",
   "metadata": {},
   "outputs": [],
   "source": []
  },
  {
   "cell_type": "code",
   "execution_count": null,
   "id": "724c97e7",
   "metadata": {},
   "outputs": [],
   "source": []
  },
  {
   "cell_type": "code",
   "execution_count": null,
   "id": "90fc95df",
   "metadata": {},
   "outputs": [],
   "source": []
  },
  {
   "cell_type": "code",
   "execution_count": null,
   "id": "de988b54",
   "metadata": {},
   "outputs": [],
   "source": []
  },
  {
   "cell_type": "code",
   "execution_count": null,
   "id": "f9822d7f",
   "metadata": {},
   "outputs": [],
   "source": []
  },
  {
   "cell_type": "code",
   "execution_count": null,
   "id": "d4ea08f5",
   "metadata": {},
   "outputs": [],
   "source": []
  },
  {
   "cell_type": "code",
   "execution_count": null,
   "id": "c3d23c32",
   "metadata": {},
   "outputs": [],
   "source": []
  },
  {
   "cell_type": "markdown",
   "id": "b37e3e35",
   "metadata": {},
   "source": [
    "# Test  88%"
   ]
  },
  {
   "cell_type": "code",
   "execution_count": 22,
   "id": "286bde08",
   "metadata": {},
   "outputs": [
    {
     "data": {
      "image/png": "[encoded data removed]",
      "text/plain": [
       "<Figure size 640x480 with 2 Axes>"
      ]
     },
     "metadata": {},
     "output_type": "display_data"
    }
   ],
   "source": [
    "'''Forward pass the test data '''\n",
    "\n",
    "z1 = np.matmul(W1.T,X_test) + b1\n",
    "a1 = sig(z1)\n",
    "z2 = np.matmul(W2.T,a1) + b2\n",
    "a2 = sig(z2)\n",
    "\n",
    "''' turn the output into predictions '''\n",
    "\n",
    "pos = np.argmax(a2, axis =0)\n",
    "y_pred = np.zeros_like(a2)\n",
    "y_pred[pos,range(y_pred.shape[1])] = 1\n",
    "\n",
    "''' compute the confusion matirx '''\n",
    "confusion = np.zeros([10,10])\n",
    "for i in range(10):\n",
    "    for j in range(10):\n",
    "        confusion[i,j] = np.dot(y_pred[i],Y_test[j])\n",
    "\n",
    "import seaborn as sns\n",
    "\n",
    "confusion_int = confusion.astype(int)\n",
    "\n",
    "sns.heatmap(confusion_int, annot = True, fmt='d', cmap='Blues')\n",
    "plt.xlabel('True')\n",
    "plt.ylabel('Predicted')\n",
    "plt.title('Confusion Matrix')\n",
    "plt.show()"
   ]
  },
  {
   "cell_type": "code",
   "execution_count": 23,
   "id": "b6b39c2a",
   "metadata": {},
   "outputs": [
    {
     "data": {
      "text/plain": [
       "0.87"
      ]
     },
     "execution_count": 23,
     "metadata": {},
     "output_type": "execute_result"
    }
   ],
   "source": [
    "np.trace(confusion)/X_test.shape[1]"
   ]
  },
  {
   "cell_type": "code",
   "execution_count": null,
   "id": "be744bf0",
   "metadata": {},
   "outputs": [],
   "source": []
  },
  {
   "cell_type": "code",
   "execution_count": null,
   "id": "137ec9bd",
   "metadata": {},
   "outputs": [],
   "source": []
  }
 ],
 "metadata": {
  "kernelspec": {
   "display_name": "Python 3 (ipykernel)",
   "language": "python",
   "name": "python3"
  },
  "language_info": {
   "codemirror_mode": {
    "name": "ipython",
    "version": 3
   },
   "file_extension": ".py",
   "mimetype": "text/x-python",
   "name": "python",
   "nbconvert_exporter": "python",
   "pygments_lexer": "ipython3",
   "version": "3.10.9"
  }
 },
 "nbformat": 4,
 "nbformat_minor": 5
}
